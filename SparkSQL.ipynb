{
 "cells": [
  {
   "cell_type": "code",
   "execution_count": 68,
   "id": "4a7a66f1-c0f5-4333-a109-99bbddb40a26",
   "metadata": {
    "scrolled": true
   },
   "outputs": [
    {
     "data": {
      "text/html": [
       "\n",
       "<div style=\"width:600px; overflow-x:auto; border:1px solid black;\">\n",
       "\n",
       "</div>\n"
      ],
      "text/plain": [
       "<IPython.core.display.HTML object>"
      ]
     },
     "metadata": {},
     "output_type": "display_data"
    }
   ],
   "source": [
    "from IPython.display import display, HTML\n",
    "display(HTML(f\"\"\"\n",
    "<div style=\"width:600px; overflow-x:auto; border:1px solid black;\">\n",
    "\n",
    "</div>\n",
    "\"\"\"))"
   ]
  },
  {
   "cell_type": "code",
   "execution_count": 1,
   "id": "b7f0d699-76ec-4eaa-bb32-a42bd985fed1",
   "metadata": {},
   "outputs": [],
   "source": [
    "from pyspark.sql import SparkSession\n",
    "from pyspark.sql.types import *\n",
    "from pyspark.sql.functions import *"
   ]
  },
  {
   "cell_type": "code",
   "execution_count": 10,
   "id": "f39722c1-4597-4fc1-9958-b9bef889bb57",
   "metadata": {},
   "outputs": [
    {
     "data": {
      "text/html": [
       "\n",
       "            <div>\n",
       "                <p><b>SparkSession - in-memory</b></p>\n",
       "                \n",
       "        <div>\n",
       "            <p><b>SparkContext</b></p>\n",
       "\n",
       "            <p><a href=\"http://192.168.1.9:4040\">Spark UI</a></p>\n",
       "\n",
       "            <dl>\n",
       "              <dt>Version</dt>\n",
       "                <dd><code>v3.5.2</code></dd>\n",
       "              <dt>Master</dt>\n",
       "                <dd><code>local[4]</code></dd>\n",
       "              <dt>AppName</dt>\n",
       "                <dd><code>DataFrameP</code></dd>\n",
       "            </dl>\n",
       "        </div>\n",
       "        \n",
       "            </div>\n",
       "        "
      ],
      "text/plain": [
       "<pyspark.sql.session.SparkSession at 0x13ff0c530>"
      ]
     },
     "execution_count": 10,
     "metadata": {},
     "output_type": "execute_result"
    }
   ],
   "source": [
    "spark = (SparkSession.builder.appName(\"SparkSQL\").master(\"local[4]\")\n",
    "         .config(\"spark.dynamicAllocation.enabled\", \"false\")\n",
    "         .config(\"spark.sql adaptive.enabled\", \"false\")\n",
    "         .getOrCreate())\n",
    "sc = spark.sparkContext\n",
    "spark"
   ]
  },
  {
   "cell_type": "code",
   "execution_count": 12,
   "id": "ea3a7b38-5b98-42d9-ae66-374ce16fb3f7",
   "metadata": {},
   "outputs": [],
   "source": [
    "yellowTaxiSchema = (StructType([\n",
    "    StructField(\"VendorId\",IntegerType(),True),\n",
    "    StructField(\"tpep_pickup_datetime\",TimestampType(),True),\n",
    "    StructField(\"tpep_dropoff_datetime\",TimestampType(),True),\n",
    "    StructField(\"passenger_count\",DoubleType(),True),\n",
    "    StructField(\"trip_distance\",DoubleType(),True),\n",
    "    StructField(\"RatecodeID\",DoubleType(),True),\n",
    "    StructField(\"store_and_fwd_flag\",StringType(),True),\n",
    "    StructField(\"PULocationID\",IntegerType(),True),\n",
    "    StructField(\"DOLocationID\",IntegerType(),True),\n",
    "    StructField(\"payment_type\",IntegerType(),True),\n",
    "    StructField(\"fare_amount\",DoubleType(),True),\n",
    "    StructField(\"extra\",DoubleType(),True),\n",
    "    StructField(\"mta_tax\",DoubleType(),True),\n",
    "    StructField(\"tip_amount\",DoubleType(),True),\n",
    "    StructField(\"tolls_amount\",DoubleType(),True),\n",
    "    StructField(\"improvement_surcharge\",DoubleType(),True),\n",
    "    StructField(\"total_amount\",DoubleType(),True),\n",
    "    StructField(\"congestion_surcharge\",DoubleType(),True),\n",
    "    StructField(\"airport_fee\",DoubleType(),True)\n",
    "]))"
   ]
  },
  {
   "cell_type": "code",
   "execution_count": 70,
   "id": "6d7cb35d-4869-4e60-aca6-d10cfa78efee",
   "metadata": {},
   "outputs": [
    {
     "name": "stdout",
     "output_type": "stream",
     "text": [
      "+--------+--------------------+---------------------+---------------+-------------+----------+------------------+------------+------------+------------+-----------+-----+-------+----------+------------+---------------------+------------+--------------------+-----------+\n",
      "|VendorId|tpep_pickup_datetime|tpep_dropoff_datetime|passenger_count|trip_distance|RatecodeID|store_and_fwd_flag|PULocationID|DOLocationID|payment_type|fare_amount|extra|mta_tax|tip_amount|tolls_amount|improvement_surcharge|total_amount|congestion_surcharge|airport_fee|\n",
      "+--------+--------------------+---------------------+---------------+-------------+----------+------------------+------------+------------+------------+-----------+-----+-------+----------+------------+---------------------+------------+--------------------+-----------+\n",
      "|       1| 2022-10-01 05:33:41|  2022-10-01 05:48:39|            1.0|          1.7|       1.0|                 N|         249|         107|           1|        9.5|  3.0|    0.5|      2.65|         0.0|                  0.3|       15.95|                 2.5|        0.0|\n",
      "|       2| 2022-10-01 05:44:30|  2022-10-01 05:49:48|            2.0|         0.72|       1.0|                 N|         151|         238|           2|        5.5|  0.5|    0.5|       0.0|         0.0|                  0.3|         9.3|                 2.5|        0.0|\n",
      "|       2| 2022-10-01 05:57:13|  2022-10-01 06:07:41|            1.0|         1.74|       1.0|                 N|         238|         166|           1|        9.0|  0.5|    0.5|      2.06|         0.0|                  0.3|       12.36|                 0.0|        0.0|\n",
      "|       1| 2022-10-01 06:02:53|  2022-10-01 06:08:55|            0.0|          1.3|       1.0|                 N|         142|         239|           1|        6.5|  3.0|    0.5|      2.05|         0.0|                  0.3|       12.35|                 2.5|        0.0|\n",
      "|       1| 2022-10-01 06:14:55|  2022-10-01 06:20:21|            0.0|          1.0|       1.0|                 N|         238|         166|           1|        6.0|  0.5|    0.5|       1.8|         0.0|                  0.3|         9.1|                 0.0|        0.0|\n",
      "|       1| 2022-10-01 05:52:52|  2022-10-01 06:22:14|            1.0|          6.8|       1.0|                 Y|         186|          41|           2|       25.5|  3.0|    0.5|       0.0|         0.0|                  0.3|        29.3|                 2.5|        0.0|\n",
      "|       2| 2022-10-01 06:03:19|  2022-10-01 06:14:51|            3.0|         1.88|       1.0|                 N|         162|         145|           2|       10.5|  0.5|    0.5|       0.0|         0.0|                  0.3|        14.3|                 2.5|        0.0|\n",
      "|       1| 2022-10-01 05:32:42|  2022-10-01 06:20:01|            1.0|         12.2|       1.0|                 N|         100|          22|           1|       41.0|  3.0|    0.5|       3.0|         0.0|                  0.3|        47.8|                 2.5|        0.0|\n",
      "|       2| 2022-10-01 05:36:35|  2022-10-01 05:54:38|            1.0|         7.79|       1.0|                 N|         138|         112|           1|       23.5|  0.5|    0.5|      4.96|         0.0|                  0.3|       31.01|                 0.0|       1.25|\n",
      "|       2| 2022-10-01 05:59:25|  2022-10-01 06:13:15|            1.0|         4.72|       1.0|                 N|         145|          75|           1|       14.5|  0.5|    0.5|       1.5|         0.0|                  0.3|        19.8|                 2.5|        0.0|\n",
      "|       1| 2022-10-01 05:31:55|  2022-10-01 05:50:16|            1.0|          8.8|       1.0|                 N|         138|         236|           1|       26.0| 4.25|    0.5|      5.64|        6.55|                  0.3|       43.24|                 2.5|       1.25|\n",
      "|       1| 2022-10-01 05:57:48|  2022-10-01 06:29:50|            1.0|          8.6|       1.0|                 N|         140|          36|           1|       29.5|  3.0|    0.5|       6.0|         0.0|                  0.3|        39.3|                 2.5|        0.0|\n",
      "|       1| 2022-10-01 05:35:27|  2022-10-01 06:05:33|            4.0|         12.0|       1.0|                 N|          70|         230|           2|       36.5|  3.0|    0.5|       0.0|        6.55|                  0.3|       46.85|                 2.5|        0.0|\n",
      "|       1| 2022-10-01 06:08:53|  2022-10-01 06:18:13|            2.0|          1.4|       1.0|                 N|         230|          68|           1|        8.5|  3.0|    0.5|      3.05|         0.0|                  0.3|       15.35|                 2.5|        0.0|\n",
      "|       2| 2022-10-01 05:54:40|  2022-10-01 06:00:23|            1.0|         0.76|       1.0|                 N|          79|         113|           1|        5.5|  0.5|    0.5|      0.93|         0.0|                  0.3|       10.23|                 2.5|        0.0|\n",
      "|       2| 2022-10-01 06:02:22|  2022-10-01 06:28:55|            1.0|          7.8|       1.0|                 N|         113|         116|           1|       26.5|  0.5|    0.5|      6.06|         0.0|                  0.3|       36.36|                 2.5|        0.0|\n",
      "|       2| 2022-10-01 05:47:08|  2022-10-01 06:00:50|            2.0|          2.9|       1.0|                 N|          13|         249|           1|       12.0|  0.5|    0.5|       2.8|         0.0|                  0.3|        18.6|                 2.5|        0.0|\n",
      "|       2| 2022-10-01 06:02:14|  2022-10-01 06:14:35|            1.0|         1.71|       1.0|                 N|         249|          79|           1|        9.0|  0.5|    0.5|      2.56|         0.0|                  0.3|       15.36|                 2.5|        0.0|\n",
      "|       2| 2022-10-01 05:39:24|  2022-10-01 05:51:45|            1.0|          2.3|       1.0|                 N|          48|         249|           1|       10.0|  0.5|    0.5|      2.76|         0.0|                  0.3|       16.56|                 2.5|        0.0|\n",
      "|       2| 2022-10-01 05:52:29|  2022-10-01 06:03:53|            2.0|         1.67|       1.0|                 N|         249|         224|           1|        8.5|  0.5|    0.5|      2.46|         0.0|                  0.3|       14.76|                 2.5|        0.0|\n",
      "+--------+--------------------+---------------------+---------------+-------------+----------+------------------+------------+------------+------------+-----------+-----+-------+----------+------------+---------------------+------------+--------------------+-----------+\n",
      "only showing top 20 rows\n",
      "\n"
     ]
    }
   ],
   "source": [
    "filePath = \"/Users/tulasiramreddygade/Downloads/apache-spark-3-fundamentals/DataFiles/Raw/YellowTaxis_202210.csv\"\n",
    "yellowTaxis = (\n",
    "    spark\n",
    "    .read\n",
    "    .option(\"header\",\"true\")\n",
    "    .schema(yellowTaxiSchema)\n",
    "    .csv(filePath)\n",
    ")\n",
    "\n",
    "yellowTaxis.show()"
   ]
  },
  {
   "cell_type": "markdown",
   "id": "5be8300b-d9a2-4fa9-a025-e0a5197f0202",
   "metadata": {},
   "source": [
    "### Create a SQL view based on python data frame"
   ]
  },
  {
   "cell_type": "code",
   "execution_count": 23,
   "id": "a8b51449-968e-4213-b08e-5d1100267dcf",
   "metadata": {},
   "outputs": [
    {
     "name": "stdout",
     "output_type": "stream",
     "text": [
      "root\n",
      " |-- VendorId: integer (nullable = true)\n",
      " |-- tpep_pickup_datetime: timestamp (nullable = true)\n",
      " |-- tpep_dropoff_datetime: timestamp (nullable = true)\n",
      " |-- passenger_count: double (nullable = true)\n",
      " |-- trip_distance: double (nullable = true)\n",
      " |-- RatecodeID: double (nullable = true)\n",
      " |-- store_and_fwd_flag: string (nullable = true)\n",
      " |-- PULocationID: integer (nullable = true)\n",
      " |-- DOLocationID: integer (nullable = true)\n",
      " |-- payment_type: integer (nullable = true)\n",
      " |-- fare_amount: double (nullable = true)\n",
      " |-- extra: double (nullable = true)\n",
      " |-- mta_tax: double (nullable = true)\n",
      " |-- tip_amount: double (nullable = true)\n",
      " |-- tolls_amount: double (nullable = true)\n",
      " |-- improvement_surcharge: double (nullable = true)\n",
      " |-- total_amount: double (nullable = true)\n",
      " |-- congestion_surcharge: double (nullable = true)\n",
      " |-- airport_fee: double (nullable = true)\n",
      "\n"
     ]
    },
    {
     "name": "stderr",
     "output_type": "stream",
     "text": [
      "                                                                                \r"
     ]
    },
    {
     "data": {
      "text/plain": [
       "3675412"
      ]
     },
     "execution_count": 23,
     "metadata": {},
     "output_type": "execute_result"
    }
   ],
   "source": [
    "yellowTaxis.createOrReplaceTempView(\"YellowTaxis\")\n",
    "\n",
    "outputDF = spark.sql(\n",
    "    \"SELECT * FROM YellowTaxis\"\n",
    ")\n",
    "\n",
    "outputDF.printSchema()\n",
    "outputDF.count()"
   ]
  },
  {
   "cell_type": "markdown",
   "id": "aed0f759-1a48-4e13-a909-a8a743414c58",
   "metadata": {},
   "source": [
    "### Run sql query on view"
   ]
  },
  {
   "cell_type": "code",
   "execution_count": 29,
   "id": "f2224b20-2b7d-4fbe-833b-433c86048319",
   "metadata": {},
   "outputs": [
    {
     "name": "stderr",
     "output_type": "stream",
     "text": [
      "                                                                                \r"
     ]
    },
    {
     "data": {
      "text/plain": [
       "49"
      ]
     },
     "execution_count": 29,
     "metadata": {},
     "output_type": "execute_result"
    }
   ],
   "source": [
    "outputDF1 = spark.sql(\"SELECT * FROM YellowTaxis WHERE PULocationID = 171 \")\n",
    "outputDF1.count()"
   ]
  },
  {
   "cell_type": "markdown",
   "id": "1e43068f-ab0e-4ba3-bb94-4f07fc5b8a96",
   "metadata": {},
   "source": [
    "### Read Green Taxis data and create a view"
   ]
  },
  {
   "cell_type": "code",
   "execution_count": 43,
   "id": "7ea91f56-1334-4eb2-9c65-34191a9b095c",
   "metadata": {},
   "outputs": [
    {
     "name": "stdout",
     "output_type": "stream",
     "text": [
      "root\n",
      " |-- VendorId: integer (nullable = true)\n",
      " |-- tpep_pickup_datetime: timestamp (nullable = true)\n",
      " |-- tpep_dropoff_datetime: timestamp (nullable = true)\n",
      " |-- passenger_count: double (nullable = true)\n",
      " |-- trip_distance: double (nullable = true)\n",
      " |-- RatecodeID: double (nullable = true)\n",
      " |-- store_and_fwd_flag: string (nullable = true)\n",
      " |-- PULocationID: integer (nullable = true)\n",
      " |-- DOLocationID: integer (nullable = true)\n",
      " |-- payment_type: integer (nullable = true)\n",
      " |-- fare_amount: double (nullable = true)\n",
      " |-- extra: double (nullable = true)\n",
      " |-- mta_tax: double (nullable = true)\n",
      " |-- tip_amount: double (nullable = true)\n",
      " |-- tolls_amount: double (nullable = true)\n",
      " |-- improvement_surcharge: double (nullable = true)\n",
      " |-- total_amount: double (nullable = true)\n",
      " |-- congestion_surcharge: double (nullable = true)\n",
      " |-- airport_fee: double (nullable = true)\n",
      "\n"
     ]
    }
   ],
   "source": [
    "greenTaxisFilePath = \"/Users/tulasiramreddygade/Downloads/apache-spark-3-fundamentals/DataFiles/Raw/GreenTaxis_202210.csv\"\n",
    "\n",
    "greenTaxisDF = (\n",
    "    spark\n",
    "    .read\n",
    "    .option(\"header\",\"true\")\n",
    "    .option(\"delimiter\",\"\\t\")\n",
    "    .schema(yellowTaxiSchema)\n",
    "    .csv(greenTaxisFilePath)\n",
    ")\n",
    "greenTaxisDF.printSchema()\n",
    "greenTaxisDF.createOrReplaceTempView(\"GreenTaxis\")"
   ]
  },
  {
   "cell_type": "markdown",
   "id": "fad459e1-e3e8-49aa-9fd9-9c6a82642224",
   "metadata": {},
   "source": [
    "### SQL query to merge yellow and green taxis data"
   ]
  },
  {
   "cell_type": "code",
   "execution_count": 45,
   "id": "172a38f7-05bc-4653-9314-59741930d715",
   "metadata": {},
   "outputs": [
    {
     "data": {
      "text/plain": [
       "3744734"
      ]
     },
     "execution_count": 45,
     "metadata": {},
     "output_type": "execute_result"
    }
   ],
   "source": [
    "output_df = spark.sql(\n",
    "    \"\"\"\n",
    "    SELECT \"Yellow\",PULocationID,DOLocationID FROM YellowTaxis\n",
    "\n",
    "    UNION ALL\n",
    "\n",
    "    SELECT \"Green\",PULocationID,DOLocationID FROM GreenTaxis\n",
    "    \n",
    "    \"\"\"\n",
    ")\n",
    "\n",
    "output_df.count()"
   ]
  },
  {
   "cell_type": "markdown",
   "id": "43cd1122-0b2a-4065-8820-f3b5ab580a70",
   "metadata": {},
   "source": [
    "### Read Taxizones data and create global temp view"
   ]
  },
  {
   "cell_type": "code",
   "execution_count": 56,
   "id": "129b0c18-01b7-4227-8951-d0dcef5ac15f",
   "metadata": {},
   "outputs": [
    {
     "name": "stdout",
     "output_type": "stream",
     "text": [
      "+----------+-------------+--------------------+-----------+\n",
      "|LocationID|      Borough|                Zone|ServiceZone|\n",
      "+----------+-------------+--------------------+-----------+\n",
      "|         1|          EWR|      Newark Airport|        EWR|\n",
      "|         2|       Queens|         Jamaica Bay|  Boro Zone|\n",
      "|         3|        Bronx|Allerton/Pelham G...|  Boro Zone|\n",
      "|         4|    Manhattan|       Alphabet City|Yellow Zone|\n",
      "|         5|Staten Island|       Arden Heights|  Boro Zone|\n",
      "|         6|Staten Island|Arrochar/Fort Wad...|  Boro Zone|\n",
      "|         7|       Queens|             Astoria|  Boro Zone|\n",
      "|         8|       Queens|        Astoria Park|  Boro Zone|\n",
      "|         9|       Queens|          Auburndale|  Boro Zone|\n",
      "|        10|       Queens|        Baisley Park|  Boro Zone|\n",
      "|        11|     Brooklyn|          Bath Beach|  Boro Zone|\n",
      "|        12|    Manhattan|        Battery Park|Yellow Zone|\n",
      "|        13|    Manhattan|   Battery Park City|Yellow Zone|\n",
      "|        14|     Brooklyn|           Bay Ridge|  Boro Zone|\n",
      "|        15|       Queens|Bay Terrace/Fort ...|  Boro Zone|\n",
      "|        16|       Queens|             Bayside|  Boro Zone|\n",
      "|        17|     Brooklyn|             Bedford|  Boro Zone|\n",
      "|        18|        Bronx|        Bedford Park|  Boro Zone|\n",
      "|        19|       Queens|           Bellerose|  Boro Zone|\n",
      "|        20|        Bronx|             Belmont|  Boro Zone|\n",
      "+----------+-------------+--------------------+-----------+\n",
      "only showing top 20 rows\n",
      "\n"
     ]
    }
   ],
   "source": [
    "TaxiZonesFilePath = \"/Users/tulasiramreddygade/Downloads/apache-spark-3-fundamentals/DataFiles/Raw/TaxiZones.csv\"\n",
    "\n",
    "TaxiZonesSchema = \"LocationID INT, Borough STRING, Zone STRING, ServiceZone STRING\"\n",
    "\n",
    "TaxiZones = (\n",
    "    spark\n",
    "    .read\n",
    "    .schema(TaxiZonesSchema)\n",
    "    .csv(TaxiZonesFilePath)\n",
    ")\n",
    "\n",
    "TaxiZones.show()\n",
    "\n",
    "TaxiZones.createOrReplaceGlobalTempView(\"TaxiZones\")"
   ]
  },
  {
   "cell_type": "markdown",
   "id": "88a31683-d46b-436e-8dc9-b335db202cb5",
   "metadata": {},
   "source": [
    "### Create a report\n",
    "Find out number of riders grouped by Borough and TaxiType"
   ]
  },
  {
   "cell_type": "code",
   "execution_count": 63,
   "id": "e428d96f-1d40-4606-ad26-d7fd5d14cd9e",
   "metadata": {},
   "outputs": [
    {
     "name": "stderr",
     "output_type": "stream",
     "text": [
      "[Stage 27:>                                                         (0 + 1) / 1]\r"
     ]
    },
    {
     "name": "stdout",
     "output_type": "stream",
     "text": [
      "+-------------+--------+----------+\n",
      "|      Borough|TaxiType|TotalTrips|\n",
      "+-------------+--------+----------+\n",
      "|        Bronx|   Green|      1852|\n",
      "|        Bronx|  Yellow|      4511|\n",
      "|     Brooklyn|   Green|     11113|\n",
      "|     Brooklyn|  Yellow|     28089|\n",
      "|          EWR|   Green|        15|\n",
      "|          EWR|  Yellow|      1157|\n",
      "|    Manhattan|    NULL|         2|\n",
      "|    Manhattan|   Green|     40545|\n",
      "|    Manhattan|  Yellow|   3250695|\n",
      "|       Queens|    NULL|         1|\n",
      "|       Queens|   Green|     15377|\n",
      "|       Queens|  Yellow|    333922|\n",
      "|Staten Island|    NULL|         2|\n",
      "|Staten Island|   Green|         8|\n",
      "|Staten Island|  Yellow|       303|\n",
      "|      Unknown|   Green|       412|\n",
      "|      Unknown|  Yellow|     56735|\n",
      "+-------------+--------+----------+\n",
      "\n"
     ]
    },
    {
     "name": "stderr",
     "output_type": "stream",
     "text": [
      "                                                                                \r"
     ]
    }
   ],
   "source": [
    "spark.sql(\"\"\"\n",
    "    SELECT Borough, TaxiType, COUNT(*) AS TotalTrips\n",
    "    FROM global_temp.TaxiZones AS TaxiZones\n",
    "    LEFT JOIN\n",
    "    (\n",
    "            SELECT \"Yellow\" AS TaxiType,PULocationID FROM YellowTaxis\n",
    "\n",
    "            UNION ALL\n",
    "\n",
    "            SELECT \"Green\" AS TaxiType,PULocationID FROM GreenTaxis\n",
    "    ) AllTaxis\n",
    "\n",
    "    ON AllTaxis.PULocationID = TaxiZones.LocationID\n",
    "    GROUP BY  Borough, TaxiType\n",
    "    ORDER BY Borough, TaxiType\n",
    "    \n",
    "    \"\"\"\n",
    ").show()"
   ]
  },
  {
   "cell_type": "code",
   "execution_count": null,
   "id": "bac48280-1cf6-4f44-8f40-9f8ed1195b9c",
   "metadata": {},
   "outputs": [],
   "source": []
  }
 ],
 "metadata": {
  "kernelspec": {
   "display_name": "Python 3 (ipykernel)",
   "language": "python",
   "name": "python3"
  },
  "language_info": {
   "codemirror_mode": {
    "name": "ipython",
    "version": 3
   },
   "file_extension": ".py",
   "mimetype": "text/x-python",
   "name": "python",
   "nbconvert_exporter": "python",
   "pygments_lexer": "ipython3",
   "version": "3.12.4"
  }
 },
 "nbformat": 4,
 "nbformat_minor": 5
}
