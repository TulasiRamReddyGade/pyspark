{
 "cells": [
  {
   "cell_type": "markdown",
   "id": "70f1af09-483e-4d46-a829-e7b46553031b",
   "metadata": {},
   "source": [
    "# Imports"
   ]
  },
  {
   "cell_type": "code",
   "execution_count": 3,
   "id": "7282c000-87b8-4d47-98de-d7ed8824cea8",
   "metadata": {},
   "outputs": [],
   "source": [
    "from pyspark.sql import SparkSession\n",
    "from pyspark.sql.types import *\n",
    "from pyspark.sql.functions import *"
   ]
  },
  {
   "cell_type": "markdown",
   "id": "e3b721de-28fc-47af-808f-ab90a8b5ffb4",
   "metadata": {},
   "source": [
    "# Spark session"
   ]
  },
  {
   "cell_type": "code",
   "execution_count": 5,
   "id": "63f4396f-e03f-44b1-a44b-01059ad13759",
   "metadata": {},
   "outputs": [
    {
     "name": "stderr",
     "output_type": "stream",
     "text": [
      "24/09/18 18:29:25 WARN Utils: Your hostname, Tulasis-MacBook-Air.local resolves to a loopback address: 127.0.0.1; using 192.168.1.9 instead (on interface en0)\n",
      "24/09/18 18:29:25 WARN Utils: Set SPARK_LOCAL_IP if you need to bind to another address\n",
      "Setting default log level to \"WARN\".\n",
      "To adjust logging level use sc.setLogLevel(newLevel). For SparkR, use setLogLevel(newLevel).\n",
      "24/09/18 18:29:25 WARN NativeCodeLoader: Unable to load native-hadoop library for your platform... using builtin-java classes where applicable\n"
     ]
    },
    {
     "data": {
      "text/html": [
       "\n",
       "            <div>\n",
       "                <p><b>SparkSession - in-memory</b></p>\n",
       "                \n",
       "        <div>\n",
       "            <p><b>SparkContext</b></p>\n",
       "\n",
       "            <p><a href=\"http://192.168.1.9:4040\">Spark UI</a></p>\n",
       "\n",
       "            <dl>\n",
       "              <dt>Version</dt>\n",
       "                <dd><code>v3.5.2</code></dd>\n",
       "              <dt>Master</dt>\n",
       "                <dd><code>local[4]</code></dd>\n",
       "              <dt>AppName</dt>\n",
       "                <dd><code>DataFrameP</code></dd>\n",
       "            </dl>\n",
       "        </div>\n",
       "        \n",
       "            </div>\n",
       "        "
      ],
      "text/plain": [
       "<pyspark.sql.session.SparkSession at 0x132977590>"
      ]
     },
     "execution_count": 5,
     "metadata": {},
     "output_type": "execute_result"
    }
   ],
   "source": [
    "spark = (SparkSession.builder.appName(\"DataFrameP\").master(\"local[4]\")\n",
    "         .config(\"spark.dynamicAllocation.enabled\", \"false\")\n",
    "         .config(\"spark.sql adaptive.enabled\", \"false\")\n",
    "         .getOrCreate())\n",
    "sc = spark.sparkContext\n",
    "spark"
   ]
  },
  {
   "cell_type": "markdown",
   "id": "f4036313-d4cf-45d2-b867-8ed79c0b192c",
   "metadata": {
    "jp-MarkdownHeadingCollapsed": true
   },
   "source": [
    "# Create Data frame using RDD"
   ]
  },
  {
   "cell_type": "code",
   "execution_count": 7,
   "id": "30d44c58-b9b9-41e3-b69e-a74da7cae177",
   "metadata": {},
   "outputs": [],
   "source": [
    "data = [\n",
    "    [1, 'Alice', 25],\n",
    "    [2, 'Bob', 30],\n",
    "    [3, 'Charlie', 22],\n",
    "    [4, 'David', 28],\n",
    "    [5, 'Eve', 27],\n",
    "    [6, 'Frank', 33],\n",
    "    [7, 'Grace', 26],\n",
    "    [8, 'Hannah', 31],\n",
    "    [9, 'Ivy', 29],\n",
    "    [10, 'Jack', 24]\n",
    "]"
   ]
  },
  {
   "cell_type": "code",
   "execution_count": 8,
   "id": "0be8e570-252f-42f7-9ec1-0a837713d3ed",
   "metadata": {},
   "outputs": [],
   "source": [
    "dataRDD = sc.parallelize(data)"
   ]
  },
  {
   "cell_type": "code",
   "execution_count": 9,
   "id": "7a261306-7d27-4cd9-b6fd-45a8321292fe",
   "metadata": {},
   "outputs": [
    {
     "name": "stderr",
     "output_type": "stream",
     "text": [
      "                                                                                \r"
     ]
    },
    {
     "name": "stdout",
     "output_type": "stream",
     "text": [
      "+---+-------+---+\n",
      "| _1|     _2| _3|\n",
      "+---+-------+---+\n",
      "|  1|  Alice| 25|\n",
      "|  2|    Bob| 30|\n",
      "|  3|Charlie| 22|\n",
      "|  4|  David| 28|\n",
      "|  5|    Eve| 27|\n",
      "|  6|  Frank| 33|\n",
      "|  7|  Grace| 26|\n",
      "|  8| Hannah| 31|\n",
      "|  9|    Ivy| 29|\n",
      "| 10|   Jack| 24|\n",
      "+---+-------+---+\n",
      "\n"
     ]
    }
   ],
   "source": [
    "# create data frame from RDD\n",
    "dataDF = dataRDD.toDF()\n",
    "dataDF.show()"
   ]
  },
  {
   "cell_type": "code",
   "execution_count": 10,
   "id": "0ab64807-1ff3-43c4-aec7-6410bc30cbe0",
   "metadata": {},
   "outputs": [
    {
     "name": "stdout",
     "output_type": "stream",
     "text": [
      "+----+-------+---+\n",
      "|S.NO|   Name|Age|\n",
      "+----+-------+---+\n",
      "|   1|  Alice| 25|\n",
      "|   2|    Bob| 30|\n",
      "|   3|Charlie| 22|\n",
      "|   4|  David| 28|\n",
      "|   5|    Eve| 27|\n",
      "|   6|  Frank| 33|\n",
      "|   7|  Grace| 26|\n",
      "|   8| Hannah| 31|\n",
      "|   9|    Ivy| 29|\n",
      "|  10|   Jack| 24|\n",
      "+----+-------+---+\n",
      "\n"
     ]
    }
   ],
   "source": [
    "# Define cloumn names for Data Frames\n",
    "dataDF = dataDF.toDF(\"S.NO\",\"Name\",\"Age\")\n",
    "dataDF.show()"
   ]
  },
  {
   "cell_type": "code",
   "execution_count": 11,
   "id": "044c46f0-4f72-485d-aebf-a70ac51ce6a3",
   "metadata": {},
   "outputs": [
    {
     "name": "stdout",
     "output_type": "stream",
     "text": [
      "root\n",
      " |-- S.NO: long (nullable = true)\n",
      " |-- Name: string (nullable = true)\n",
      " |-- Age: long (nullable = true)\n",
      "\n"
     ]
    }
   ],
   "source": [
    "# print data frame schema\n",
    "\n",
    "dataDF.printSchema()"
   ]
  },
  {
   "cell_type": "markdown",
   "id": "9ac7480e-75da-4b57-8cc4-be658e1f1106",
   "metadata": {
    "jp-MarkdownHeadingCollapsed": true
   },
   "source": [
    "# Create Data Fame from Data Source"
   ]
  },
  {
   "cell_type": "code",
   "execution_count": 13,
   "id": "f6205da4-f1bb-45af-8c71-b743ba54bb28",
   "metadata": {},
   "outputs": [
    {
     "name": "stdout",
     "output_type": "stream",
     "text": [
      "+---+-------+---+\n",
      "|SNO|   Name|Age|\n",
      "+---+-------+---+\n",
      "|  1|  Alice| 25|\n",
      "|  2|    Bob| 30|\n",
      "|  3|Charlie| 22|\n",
      "|  4|  David| 28|\n",
      "|  5|    Eve| 27|\n",
      "|  6|  Frank| 33|\n",
      "|  7|  Grace| 26|\n",
      "|  8| Hannah| 31|\n",
      "|  9|    Ivy| 29|\n",
      "| 10|   Jack| 24|\n",
      "+---+-------+---+\n",
      "\n"
     ]
    }
   ],
   "source": [
    "# dataDF = spark.createDataFrame(data,[\"S.No\",\"Name\",\"Age\"])\n",
    "dataDF = spark.createDataFrame(data,\"SNO : long, Name: string, Age: long\") # alternative\n",
    "dataDF.show()"
   ]
  },
  {
   "cell_type": "code",
   "execution_count": 14,
   "id": "3579fcbe-961d-4abe-aae0-0ef9264836c5",
   "metadata": {},
   "outputs": [
    {
     "name": "stdout",
     "output_type": "stream",
     "text": [
      "root\n",
      " |-- SNO: long (nullable = true)\n",
      " |-- Name: string (nullable = true)\n",
      " |-- Age: long (nullable = true)\n",
      "\n"
     ]
    }
   ],
   "source": [
    "dataDF.printSchema()"
   ]
  },
  {
   "cell_type": "markdown",
   "id": "c360dfe6-593d-4361-9191-ff9fd1d12005",
   "metadata": {},
   "source": [
    "# Create Data Frame using a file"
   ]
  },
  {
   "cell_type": "code",
   "execution_count": 16,
   "id": "1df1b534-6dc4-43ac-a04e-a0b2d673c077",
   "metadata": {},
   "outputs": [
    {
     "data": {
      "text/plain": [
       "[Row(_c0='VendorID', _c1='tpep_pickup_datetime', _c2='tpep_dropoff_datetime', _c3='passenger_count', _c4='trip_distance', _c5='RatecodeID', _c6='store_and_fwd_flag', _c7='PULocationID', _c8='DOLocationID', _c9='payment_type', _c10='fare_amount', _c11='extra', _c12='mta_tax', _c13='tip_amount', _c14='tolls_amount', _c15='improvement_surcharge', _c16='total_amount', _c17='congestion_surcharge', _c18='airport_fee'),\n",
       " Row(_c0='1', _c1='2022-10-01T05:33:41.000+05:30', _c2='2022-10-01T05:48:39.000+05:30', _c3='1.0', _c4='1.7', _c5='1.0', _c6='N', _c7='249', _c8='107', _c9='1', _c10='9.5', _c11='3.0', _c12='0.5', _c13='2.65', _c14='0.0', _c15='0.3', _c16='15.95', _c17='2.5', _c18='0.0'),\n",
       " Row(_c0='2', _c1='2022-10-01T05:44:30.000+05:30', _c2='2022-10-01T05:49:48.000+05:30', _c3='2.0', _c4='0.72', _c5='1.0', _c6='N', _c7='151', _c8='238', _c9='2', _c10='5.5', _c11='0.5', _c12='0.5', _c13='0.0', _c14='0.0', _c15='0.3', _c16='9.3', _c17='2.5', _c18='0.0')]"
      ]
     },
     "execution_count": 16,
     "metadata": {},
     "output_type": "execute_result"
    }
   ],
   "source": [
    "# file path /Users/tulasiramreddygade/Downloads/apache-spark-3-fundamentals/DataFiles/Raw/YellowTaxis_202210.csv\n",
    "path = \"/Users/tulasiramreddygade/Downloads/apache-spark-3-fundamentals/DataFiles/Raw/YellowTaxis_202210.csv\"\n",
    "yellowTaxisDF = spark.read.csv(path)\n",
    "\n",
    "yellowTaxisDF.take(3)"
   ]
  },
  {
   "cell_type": "code",
   "execution_count": 17,
   "id": "3269fea1-0ef6-44f0-a413-bc55f1a8802b",
   "metadata": {},
   "outputs": [
    {
     "name": "stdout",
     "output_type": "stream",
     "text": [
      "root\n",
      " |-- VendorID: string (nullable = true)\n",
      " |-- tpep_pickup_datetime: string (nullable = true)\n",
      " |-- tpep_dropoff_datetime: string (nullable = true)\n",
      " |-- passenger_count: string (nullable = true)\n",
      " |-- trip_distance: string (nullable = true)\n",
      " |-- RatecodeID: string (nullable = true)\n",
      " |-- store_and_fwd_flag: string (nullable = true)\n",
      " |-- PULocationID: string (nullable = true)\n",
      " |-- DOLocationID: string (nullable = true)\n",
      " |-- payment_type: string (nullable = true)\n",
      " |-- fare_amount: string (nullable = true)\n",
      " |-- extra: string (nullable = true)\n",
      " |-- mta_tax: string (nullable = true)\n",
      " |-- tip_amount: string (nullable = true)\n",
      " |-- tolls_amount: string (nullable = true)\n",
      " |-- improvement_surcharge: string (nullable = true)\n",
      " |-- total_amount: string (nullable = true)\n",
      " |-- congestion_surcharge: string (nullable = true)\n",
      " |-- airport_fee: string (nullable = true)\n",
      "\n"
     ]
    }
   ],
   "source": [
    "# Take taxi column from file header row\n",
    "yellowTaxisDF = spark.read.option(\"header\",\"true\").csv(path)\n",
    "\n",
    "yellowTaxisDF.printSchema()"
   ]
  },
  {
   "cell_type": "markdown",
   "id": "aee137aa-b072-48a0-91de-bf814211ee51",
   "metadata": {
    "jp-MarkdownHeadingCollapsed": true
   },
   "source": [
    "## Read TSV file"
   ]
  },
  {
   "cell_type": "code",
   "execution_count": 19,
   "id": "b54e09a0-922b-4acd-9998-f1929674afb5",
   "metadata": {},
   "outputs": [],
   "source": [
    "greenTaxiFilePath = \"/Users/tulasiramreddygade/Downloads/apache-spark-3-fundamentals/DataFiles/Raw/GreenTaxis_*.cs\"\n",
    "greenTaxiDF = spark.read.option(\"header\",\"true\").option(\"delimiter\",\"\\t\").csv(path)\n",
    "\n"
   ]
  },
  {
   "cell_type": "markdown",
   "id": "96e1d5c9-80f6-4c0a-b509-d411ea60ff4a",
   "metadata": {},
   "source": [
    "## Read json file"
   ]
  },
  {
   "cell_type": "code",
   "execution_count": 21,
   "id": "ba341d2f-a460-4bc7-a66e-0e5e9f7f6934",
   "metadata": {},
   "outputs": [
    {
     "name": "stdout",
     "output_type": "stream",
     "text": [
      "+-----------+-------------+\n",
      "|PaymentType|PaymentTypeID|\n",
      "+-----------+-------------+\n",
      "|Credit Card|            1|\n",
      "|       Cash|            2|\n",
      "|  No Charge|            3|\n",
      "|    Dispute|            4|\n",
      "|    Unknown|            5|\n",
      "|Voided Trip|            6|\n",
      "+-----------+-------------+\n",
      "\n"
     ]
    }
   ],
   "source": [
    "pathToJsonFile = \"/Users/tulasiramreddygade/Downloads/apache-spark-3-fundamentals/DataFiles/Raw/PaymentTypes.json\"\n",
    "\n",
    "paymentTypeJSON = spark.read.json(pathToJsonFile)\n",
    "\n",
    "# spark.read.format(\"formatType\").Load(path) # Read any type of data \n",
    "paymentTypeJSON.show()"
   ]
  },
  {
   "cell_type": "markdown",
   "id": "45319d86-bfb4-4b5c-9e09-038eb6b12f87",
   "metadata": {},
   "source": [
    "# Applying Schema"
   ]
  },
  {
   "cell_type": "code",
   "execution_count": 23,
   "id": "a8d21352-8598-45c2-9b76-71f3aa107903",
   "metadata": {},
   "outputs": [
    {
     "name": "stdout",
     "output_type": "stream",
     "text": [
      "root\n",
      " |-- VendorID: string (nullable = true)\n",
      " |-- tpep_pickup_datetime: string (nullable = true)\n",
      " |-- tpep_dropoff_datetime: string (nullable = true)\n",
      " |-- passenger_count: string (nullable = true)\n",
      " |-- trip_distance: string (nullable = true)\n",
      " |-- RatecodeID: string (nullable = true)\n",
      " |-- store_and_fwd_flag: string (nullable = true)\n",
      " |-- PULocationID: string (nullable = true)\n",
      " |-- DOLocationID: string (nullable = true)\n",
      " |-- payment_type: string (nullable = true)\n",
      " |-- fare_amount: string (nullable = true)\n",
      " |-- extra: string (nullable = true)\n",
      " |-- mta_tax: string (nullable = true)\n",
      " |-- tip_amount: string (nullable = true)\n",
      " |-- tolls_amount: string (nullable = true)\n",
      " |-- improvement_surcharge: string (nullable = true)\n",
      " |-- total_amount: string (nullable = true)\n",
      " |-- congestion_surcharge: string (nullable = true)\n",
      " |-- airport_fee: string (nullable = true)\n",
      "\n"
     ]
    }
   ],
   "source": [
    "yellowTaxiDF = spark.read.option(\"header\",\"true\").csv(path)\n",
    "\n",
    "yellowTaxiDF.printSchema()"
   ]
  },
  {
   "cell_type": "markdown",
   "id": "2ba9782a-5e59-4214-92a0-48dac52831ce",
   "metadata": {},
   "source": [
    "## InferingSchema "
   ]
  },
  {
   "cell_type": "code",
   "execution_count": 25,
   "id": "c965ff87-654f-4cc2-b5af-ddaa0233b9a2",
   "metadata": {},
   "outputs": [
    {
     "name": "stderr",
     "output_type": "stream",
     "text": [
      "[Stage 15:>                                                         (0 + 4) / 4]\r"
     ]
    },
    {
     "name": "stdout",
     "output_type": "stream",
     "text": [
      "root\n",
      " |-- VendorID: integer (nullable = true)\n",
      " |-- tpep_pickup_datetime: timestamp (nullable = true)\n",
      " |-- tpep_dropoff_datetime: timestamp (nullable = true)\n",
      " |-- passenger_count: double (nullable = true)\n",
      " |-- trip_distance: double (nullable = true)\n",
      " |-- RatecodeID: double (nullable = true)\n",
      " |-- store_and_fwd_flag: string (nullable = true)\n",
      " |-- PULocationID: integer (nullable = true)\n",
      " |-- DOLocationID: integer (nullable = true)\n",
      " |-- payment_type: integer (nullable = true)\n",
      " |-- fare_amount: double (nullable = true)\n",
      " |-- extra: double (nullable = true)\n",
      " |-- mta_tax: double (nullable = true)\n",
      " |-- tip_amount: double (nullable = true)\n",
      " |-- tolls_amount: double (nullable = true)\n",
      " |-- improvement_surcharge: double (nullable = true)\n",
      " |-- total_amount: double (nullable = true)\n",
      " |-- congestion_surcharge: double (nullable = true)\n",
      " |-- airport_fee: double (nullable = true)\n",
      "\n"
     ]
    },
    {
     "name": "stderr",
     "output_type": "stream",
     "text": [
      "                                                                                \r"
     ]
    }
   ],
   "source": [
    "yellowTaxiDFSchemaInference = spark.read.option(\"header\",\"true\").option(\"inferSchema\",\"true\").csv(path)\n",
    "\n",
    "yellowTaxiDFSchemaInference.printSchema()"
   ]
  },
  {
   "cell_type": "markdown",
   "id": "9f1cf51f-c0e6-461a-8c7b-ea78cbd8b7b9",
   "metadata": {},
   "source": [
    "## Define own schema"
   ]
  },
  {
   "cell_type": "code",
   "execution_count": 27,
   "id": "26c8e6ce-d5d1-4285-aa29-5e41fdc37626",
   "metadata": {},
   "outputs": [],
   "source": [
    "yellowTaxiSchema = (StructType([\n",
    "    StructField(\"VendorId\",IntegerType(),True),\n",
    "    StructField(\"tpep_pickup_datetime\",TimestampType(),True),\n",
    "    StructField(\"tpep_dropoff_datetime\",TimestampType(),True),\n",
    "    StructField(\"passenger_count\",DoubleType(),True),\n",
    "    StructField(\"trip_distance\",DoubleType(),True),\n",
    "    StructField(\"RatecodeID\",DoubleType(),True),\n",
    "    StructField(\"store_and_fwd_flag\",StringType(),True),\n",
    "    StructField(\"PULocationID\",IntegerType(),True),\n",
    "    StructField(\"DOLocationID\",IntegerType(),True),\n",
    "    StructField(\"payment_type\",IntegerType(),True),\n",
    "    StructField(\"fare_amount\",DoubleType(),True),\n",
    "    StructField(\"extra\",DoubleType(),True),\n",
    "    StructField(\"mta_tax\",DoubleType(),True),\n",
    "    StructField(\"tip_amount\",DoubleType(),True),\n",
    "    StructField(\"tolls_amount\",DoubleType(),True),\n",
    "    StructField(\"improvement_surcharge\",DoubleType(),True),\n",
    "    StructField(\"total_amount\",DoubleType(),True),\n",
    "    StructField(\"congestion_surcharge\",DoubleType(),True),\n",
    "    StructField(\"airport_fee\",DoubleType(),True)\n",
    "]))"
   ]
  },
  {
   "cell_type": "code",
   "execution_count": 28,
   "id": "a031db9c-7d95-4af3-aeb0-7f56425c6c41",
   "metadata": {},
   "outputs": [
    {
     "name": "stdout",
     "output_type": "stream",
     "text": [
      "root\n",
      " |-- VendorId: integer (nullable = true)\n",
      " |-- tpep_pickup_datetime: timestamp (nullable = true)\n",
      " |-- tpep_dropoff_datetime: timestamp (nullable = true)\n",
      " |-- passenger_count: double (nullable = true)\n",
      " |-- trip_distance: double (nullable = true)\n",
      " |-- RatecodeID: double (nullable = true)\n",
      " |-- store_and_fwd_flag: string (nullable = true)\n",
      " |-- PULocationID: integer (nullable = true)\n",
      " |-- DOLocationID: integer (nullable = true)\n",
      " |-- payment_type: integer (nullable = true)\n",
      " |-- fare_amount: double (nullable = true)\n",
      " |-- extra: double (nullable = true)\n",
      " |-- mta_tax: double (nullable = true)\n",
      " |-- tip_amount: double (nullable = true)\n",
      " |-- tolls_amount: double (nullable = true)\n",
      " |-- improvement_surcharge: double (nullable = true)\n",
      " |-- total_amount: double (nullable = true)\n",
      " |-- congestion_surcharge: double (nullable = true)\n",
      " |-- airport_fee: double (nullable = true)\n",
      "\n"
     ]
    }
   ],
   "source": [
    "yellowTaxiDFWithSchema = spark.read.option(\"header\",\"true\").schema(yellowTaxiSchema).csv(path)\n",
    "\n",
    "yellowTaxiDFWithSchema.printSchema()"
   ]
  },
  {
   "cell_type": "markdown",
   "id": "8f35e79c-3e10-49c6-a7d2-c33f45067ad4",
   "metadata": {},
   "source": [
    "## Define schema for json file"
   ]
  },
  {
   "cell_type": "code",
   "execution_count": 30,
   "id": "c74694e8-a2c1-4965-9675-8d5dce98f633",
   "metadata": {},
   "outputs": [],
   "source": [
    "TaxiBasesPath = '/Users/tulasiramreddygade/Downloads/apache-spark-3-fundamentals/DataFiles/Raw/TaxiBases.json'"
   ]
  },
  {
   "cell_type": "code",
   "execution_count": 31,
   "id": "367dfad9-aa0b-4644-9cd3-89041a8bd86b",
   "metadata": {},
   "outputs": [
    {
     "data": {
      "text/plain": [
       "[Row(Address=Row(Building='636', City='NEW YORK', Postcode=10001, State='NY', Street='WEST   28 STREET'), Date='08/15/2019', Entity Name='VIER-NY,LLC', GeoLocation=Row(Latitude=40.75273, Location='(40.75273, -74.006408)', Longitude=-74.006408), License Number='B02865', SHL Endorsed='No', Telephone Number=6466657536, Time='18:03:31', Type of Base='BLACK CAR BASE')]"
      ]
     },
     "execution_count": 31,
     "metadata": {},
     "output_type": "execute_result"
    }
   ],
   "source": [
    "TaxiBasesDF = spark.read.option(\"multiline\",True).json(TaxiBasesPath)\n",
    "\n",
    "TaxiBasesDF.take(1)"
   ]
  },
  {
   "cell_type": "code",
   "execution_count": 32,
   "id": "c9d94cbc-9757-4bee-be0d-47c5181f0b25",
   "metadata": {},
   "outputs": [
    {
     "name": "stdout",
     "output_type": "stream",
     "text": [
      "root\n",
      " |-- Address: struct (nullable = true)\n",
      " |    |-- Building: string (nullable = true)\n",
      " |    |-- City: string (nullable = true)\n",
      " |    |-- Postcode: long (nullable = true)\n",
      " |    |-- State: string (nullable = true)\n",
      " |    |-- Street: string (nullable = true)\n",
      " |-- Date: string (nullable = true)\n",
      " |-- Entity Name: string (nullable = true)\n",
      " |-- GeoLocation: struct (nullable = true)\n",
      " |    |-- Latitude: double (nullable = true)\n",
      " |    |-- Location: string (nullable = true)\n",
      " |    |-- Longitude: double (nullable = true)\n",
      " |-- License Number: string (nullable = true)\n",
      " |-- SHL Endorsed: string (nullable = true)\n",
      " |-- Telephone Number: long (nullable = true)\n",
      " |-- Time: string (nullable = true)\n",
      " |-- Type of Base: string (nullable = true)\n",
      "\n"
     ]
    }
   ],
   "source": [
    "TaxiBasesDF.printSchema()"
   ]
  },
  {
   "cell_type": "code",
   "execution_count": 33,
   "id": "10f3292a-57d7-41d1-ba4a-a427787af1dc",
   "metadata": {
    "scrolled": true
   },
   "outputs": [
    {
     "name": "stdout",
     "output_type": "stream",
     "text": [
      "+--------------------+----------+--------------------+--------------------+--------------+------------+----------------+--------+--------------------+\n",
      "|             Address|      Date|         Entity Name|         GeoLocation|License Number|SHL Endorsed|Telephone Number|    Time|        Type of Base|\n",
      "+--------------------+----------+--------------------+--------------------+--------------+------------+----------------+--------+--------------------+\n",
      "|{636, NEW YORK, 1...|08/15/2019|         VIER-NY,LLC|{40.75273, (40.75...|        B02865|          No|      6466657536|18:03:31|      BLACK CAR BASE|\n",
      "|{131, BRONX, 1046...|08/15/2019|VETERANS RADIO DI...|{40.86927, (40.86...|        B02634|          No|      7183647878|18:03:31|         LIVERY BASE|\n",
      "|{115-54, ELMONT, ...|08/15/2019|      ALPHA VAN LINE|{40.693473, (40.6...|        B80094|          No|      5162850750|18:03:31|COMMUTER VAN AUTH...|\n",
      "|{866, BROOKLYN, 1...|08/15/2019|A.T.B. CAR AND LI...|{40.667838, (40.6...|        B02677|          No|      7184854444|18:03:31|         LIVERY BASE|\n",
      "|{57-48, MASPETH, ...|08/15/2019|KYOEI LIMOUSINE, ...|{40.722961, (40.7...|        B02152|          No|      7183263258|18:03:31|    LUXURY/LIMOUSINE|\n",
      "|{31-00, LIC, 1110...|08/15/2019|ENDOR CAR & DRIVE...|{40.742082, (40.7...|        B02844|          No|      4154758459|18:03:31|      BLACK CAR BASE|\n",
      "|{68-20A, FRESH ME...|08/15/2019|SKYWAY EXECUTIVE ...|{40.733337, (40.7...|        B02841|          No|      7183595959|18:03:31|      BLACK CAR BASE|\n",
      "|{22-11, LIC, 1110...|08/15/2019|FARRELL'S LEASING...|{40.757077, (40.7...|        B00472|          No|      2128616300|18:03:31|    LUXURY/LIMOUSINE|\n",
      "|{429, BROOKLYN, 1...|08/15/2019|CITY CAR SERVICE ...|{40.668473, (40.6...|        B01739|          No|      7184182222|18:03:31|         LIVERY BASE|\n",
      "|{41-31, FLUSHING,...|08/15/2019|YELLOWSTONE TRANS...|{40.758114, (40.7...|        B00248|          No|      7185397777|18:03:31|         LIVERY BASE|\n",
      "|{1811, BROOKLYN, ...|08/15/2019|ELTRI CAR SERVICE...|{40.612302, (40.6...|        B02861|          No|      7183820100|18:03:31|      BLACK CAR BASE|\n",
      "|{104-08, RICHMOND...|08/15/2019|V.J. CAR & LIMO S...|{40.691906, (40.6...|        B02093|          No|      7186417777|18:03:31|         LIVERY BASE|\n",
      "|{6701, BROOKLYN, ...|08/15/2019|ADVANTAGE LIMO OF...|{40.603784, (40.6...|        B02980|          No|      3478655876|18:03:31|    LUXURY/LIMOUSINE|\n",
      "|{636, NEW YORK, 1...|08/15/2019|          ELF-NY,LLC|{40.75273, (40.75...|        B02878|          No|      6466657540|18:03:31|      BLACK CAR BASE|\n",
      "|{85-02, REGO PARK...|08/15/2019|ALTA MEDICAL TRAN...|{40.717275, (40.7...|        B90691|          No|      7188972582|18:03:31|    PARATRANSIT BASE|\n",
      "|{565, BRONX, 1046...|08/15/2019|   RAELEEN CAR CORP.|{40.755734, (40.7...|        B02840|          No|      9176031815|18:03:31|      BLACK CAR BASE|\n",
      "|{2421, BROOKLYN, ...|08/15/2019|ASCONA CAR SERVIC...|{40.595422, (40.5...|        B02658|          No|      7186461611|18:03:31|         LIVERY BASE|\n",
      "|{6318, BROOKLYN, ...|08/15/2019|CHICO EXPRESS LIM...|{40.625609, (40.6...|        B02331|          No|      7182367777|18:03:31|      BLACK CAR BASE|\n",
      "|{32-10, LIC, 1110...|08/15/2019| LYFE AUTO GROUP INC|{40.734944, (40.7...|        B02969|          No|      7187066234|18:03:31|      BLACK CAR BASE|\n",
      "|{626, UNIONDALE, ...|08/15/2019|SAROS TRANSPORTAT...|{40.638931, (40.6...|        B02651|          No|      7185640084|18:03:31|      BLACK CAR BASE|\n",
      "+--------------------+----------+--------------------+--------------------+--------------+------------+----------------+--------+--------------------+\n",
      "only showing top 20 rows\n",
      "\n",
      "root\n",
      " |-- Address: struct (nullable = true)\n",
      " |    |-- Building: string (nullable = true)\n",
      " |    |-- City: string (nullable = true)\n",
      " |    |-- Postcode: long (nullable = true)\n",
      " |    |-- State: string (nullable = true)\n",
      " |    |-- Street: string (nullable = true)\n",
      " |-- Date: string (nullable = true)\n",
      " |-- Entity Name: string (nullable = true)\n",
      " |-- GeoLocation: struct (nullable = true)\n",
      " |    |-- Latitude: double (nullable = true)\n",
      " |    |-- Location: string (nullable = true)\n",
      " |    |-- Longitude: double (nullable = true)\n",
      " |-- License Number: string (nullable = true)\n",
      " |-- SHL Endorsed: string (nullable = true)\n",
      " |-- Telephone Number: long (nullable = true)\n",
      " |-- Time: string (nullable = true)\n",
      " |-- Type of Base: string (nullable = true)\n",
      "\n"
     ]
    }
   ],
   "source": [
    "TaxiBasesDFInferSchema = spark.read.option(\"multiline\",True).option(\"header\",True).option(\"inferSchema\",True).json(TaxiBasesPath)\n",
    "\n",
    "TaxiBasesDFInferSchema.show()\n",
    "TaxiBasesDFInferSchema.printSchema()"
   ]
  },
  {
   "cell_type": "code",
   "execution_count": 34,
   "id": "284dedae-ce72-422d-8eed-34913780fe55",
   "metadata": {},
   "outputs": [],
   "source": [
    "TaxiBasesDFSchema = StructType([\n",
    "    StructField(\"Address\",StructType([\n",
    "        StructField(\"Building\",StringType(),True),\n",
    "        StructField(\"City\",StringType(),True),\n",
    "        StructField(\"Postcode\",LongType(),True),\n",
    "        StructField(\"State\",StringType(),True),\n",
    "        StructField(\"Street\",StringType(),True)\n",
    "    ]),True),\n",
    "    StructField(\"Date\",StringType(),True),\n",
    "    StructField(\"Entity Name\",StringType(),True),\n",
    "    StructField(\"GeoLocation\",StructType([\n",
    "        StructField(\"Latitude\",DoubleType(),True),\n",
    "        StructField(\"Location\",StringType(),True),\n",
    "        StructField(\"Longitude\",DoubleType(),True)\n",
    "    ])),\n",
    "    StructField(\"License Number\",StringType(),True),\n",
    "    StructField(\"SHL Endorsed\",StringType(),True),\n",
    "    StructField(\"Telephone Number\",LongType(),True),\n",
    "    StructField(\"Time\",StringType(),True),\n",
    "    StructField(\"Type of Base\",StringType(),True)\n",
    "])"
   ]
  },
  {
   "cell_type": "code",
   "execution_count": 35,
   "id": "e82db2e2-c18b-4590-a71d-e39403e5b9ec",
   "metadata": {
    "scrolled": true
   },
   "outputs": [
    {
     "name": "stdout",
     "output_type": "stream",
     "text": [
      "+--------------------+----------+--------------------+--------------------+--------------+------------+----------------+--------+--------------------+\n",
      "|             Address|      Date|         Entity Name|         GeoLocation|License Number|SHL Endorsed|Telephone Number|    Time|        Type of Base|\n",
      "+--------------------+----------+--------------------+--------------------+--------------+------------+----------------+--------+--------------------+\n",
      "|{636, NEW YORK, 1...|08/15/2019|         VIER-NY,LLC|{40.75273, (40.75...|        B02865|          No|      6466657536|18:03:31|      BLACK CAR BASE|\n",
      "|{131, BRONX, 1046...|08/15/2019|VETERANS RADIO DI...|{40.86927, (40.86...|        B02634|          No|      7183647878|18:03:31|         LIVERY BASE|\n",
      "|{115-54, ELMONT, ...|08/15/2019|      ALPHA VAN LINE|{40.693473, (40.6...|        B80094|          No|      5162850750|18:03:31|COMMUTER VAN AUTH...|\n",
      "|{866, BROOKLYN, 1...|08/15/2019|A.T.B. CAR AND LI...|{40.667838, (40.6...|        B02677|          No|      7184854444|18:03:31|         LIVERY BASE|\n",
      "|{57-48, MASPETH, ...|08/15/2019|KYOEI LIMOUSINE, ...|{40.722961, (40.7...|        B02152|          No|      7183263258|18:03:31|    LUXURY/LIMOUSINE|\n",
      "|{31-00, LIC, 1110...|08/15/2019|ENDOR CAR & DRIVE...|{40.742082, (40.7...|        B02844|          No|      4154758459|18:03:31|      BLACK CAR BASE|\n",
      "|{68-20A, FRESH ME...|08/15/2019|SKYWAY EXECUTIVE ...|{40.733337, (40.7...|        B02841|          No|      7183595959|18:03:31|      BLACK CAR BASE|\n",
      "|{22-11, LIC, 1110...|08/15/2019|FARRELL'S LEASING...|{40.757077, (40.7...|        B00472|          No|      2128616300|18:03:31|    LUXURY/LIMOUSINE|\n",
      "|{429, BROOKLYN, 1...|08/15/2019|CITY CAR SERVICE ...|{40.668473, (40.6...|        B01739|          No|      7184182222|18:03:31|         LIVERY BASE|\n",
      "|{41-31, FLUSHING,...|08/15/2019|YELLOWSTONE TRANS...|{40.758114, (40.7...|        B00248|          No|      7185397777|18:03:31|         LIVERY BASE|\n",
      "|{1811, BROOKLYN, ...|08/15/2019|ELTRI CAR SERVICE...|{40.612302, (40.6...|        B02861|          No|      7183820100|18:03:31|      BLACK CAR BASE|\n",
      "|{104-08, RICHMOND...|08/15/2019|V.J. CAR & LIMO S...|{40.691906, (40.6...|        B02093|          No|      7186417777|18:03:31|         LIVERY BASE|\n",
      "|{6701, BROOKLYN, ...|08/15/2019|ADVANTAGE LIMO OF...|{40.603784, (40.6...|        B02980|          No|      3478655876|18:03:31|    LUXURY/LIMOUSINE|\n",
      "|{636, NEW YORK, 1...|08/15/2019|          ELF-NY,LLC|{40.75273, (40.75...|        B02878|          No|      6466657540|18:03:31|      BLACK CAR BASE|\n",
      "|{85-02, REGO PARK...|08/15/2019|ALTA MEDICAL TRAN...|{40.717275, (40.7...|        B90691|          No|      7188972582|18:03:31|    PARATRANSIT BASE|\n",
      "|{565, BRONX, 1046...|08/15/2019|   RAELEEN CAR CORP.|{40.755734, (40.7...|        B02840|          No|      9176031815|18:03:31|      BLACK CAR BASE|\n",
      "|{2421, BROOKLYN, ...|08/15/2019|ASCONA CAR SERVIC...|{40.595422, (40.5...|        B02658|          No|      7186461611|18:03:31|         LIVERY BASE|\n",
      "|{6318, BROOKLYN, ...|08/15/2019|CHICO EXPRESS LIM...|{40.625609, (40.6...|        B02331|          No|      7182367777|18:03:31|      BLACK CAR BASE|\n",
      "|{32-10, LIC, 1110...|08/15/2019| LYFE AUTO GROUP INC|{40.734944, (40.7...|        B02969|          No|      7187066234|18:03:31|      BLACK CAR BASE|\n",
      "|{626, UNIONDALE, ...|08/15/2019|SAROS TRANSPORTAT...|{40.638931, (40.6...|        B02651|          No|      7185640084|18:03:31|      BLACK CAR BASE|\n",
      "+--------------------+----------+--------------------+--------------------+--------------+------------+----------------+--------+--------------------+\n",
      "only showing top 20 rows\n",
      "\n",
      "root\n",
      " |-- Address: struct (nullable = true)\n",
      " |    |-- Building: string (nullable = true)\n",
      " |    |-- City: string (nullable = true)\n",
      " |    |-- Postcode: long (nullable = true)\n",
      " |    |-- State: string (nullable = true)\n",
      " |    |-- Street: string (nullable = true)\n",
      " |-- Date: string (nullable = true)\n",
      " |-- Entity Name: string (nullable = true)\n",
      " |-- GeoLocation: struct (nullable = true)\n",
      " |    |-- Latitude: double (nullable = true)\n",
      " |    |-- Location: string (nullable = true)\n",
      " |    |-- Longitude: double (nullable = true)\n",
      " |-- License Number: string (nullable = true)\n",
      " |-- SHL Endorsed: string (nullable = true)\n",
      " |-- Telephone Number: long (nullable = true)\n",
      " |-- Time: string (nullable = true)\n",
      " |-- Type of Base: string (nullable = true)\n",
      "\n"
     ]
    }
   ],
   "source": [
    "TaxiBasesDFWithSchema = spark.read.option(\"multiline\",True).schema(TaxiBasesDFSchema).json(TaxiBasesPath)\n",
    "\n",
    "TaxiBasesDFWithSchema.show()\n",
    "TaxiBasesDFWithSchema.printSchema()"
   ]
  },
  {
   "cell_type": "markdown",
   "id": "8021801f-eb4b-4d43-81b0-d66c42ca521f",
   "metadata": {},
   "source": [
    "# Analyse Data"
   ]
  },
  {
   "cell_type": "code",
   "execution_count": 37,
   "id": "05b405fd-0a14-4153-84a1-4874493c70a5",
   "metadata": {},
   "outputs": [
    {
     "name": "stdout",
     "output_type": "stream",
     "text": [
      "root\n",
      " |-- VendorId: integer (nullable = true)\n",
      " |-- tpep_pickup_datetime: timestamp (nullable = true)\n",
      " |-- tpep_dropoff_datetime: timestamp (nullable = true)\n",
      " |-- passenger_count: double (nullable = true)\n",
      " |-- trip_distance: double (nullable = true)\n",
      " |-- RatecodeID: double (nullable = true)\n",
      " |-- store_and_fwd_flag: string (nullable = true)\n",
      " |-- PULocationID: integer (nullable = true)\n",
      " |-- DOLocationID: integer (nullable = true)\n",
      " |-- payment_type: integer (nullable = true)\n",
      " |-- fare_amount: double (nullable = true)\n",
      " |-- extra: double (nullable = true)\n",
      " |-- mta_tax: double (nullable = true)\n",
      " |-- tip_amount: double (nullable = true)\n",
      " |-- tolls_amount: double (nullable = true)\n",
      " |-- improvement_surcharge: double (nullable = true)\n",
      " |-- total_amount: double (nullable = true)\n",
      " |-- congestion_surcharge: double (nullable = true)\n",
      " |-- airport_fee: double (nullable = true)\n",
      "\n"
     ]
    },
    {
     "name": "stderr",
     "output_type": "stream",
     "text": [
      "                                                                                \r"
     ]
    },
    {
     "data": {
      "text/plain": [
       "3675412"
      ]
     },
     "execution_count": 37,
     "metadata": {},
     "output_type": "execute_result"
    }
   ],
   "source": [
    "yellowTaxiDFPath = \"/Users/tulasiramreddygade/Downloads/apache-spark-3-fundamentals/DataFiles/Raw/YellowTaxis_202210.csv\"\n",
    "\n",
    "yellowTaxiDF = spark.read.option(\"header\",\"true\").schema(yellowTaxiSchema).csv(yellowTaxiDFPath)\n",
    "\n",
    "yellowTaxiDF.printSchema()\n",
    "yellowTaxiDF.count()\n"
   ]
  },
  {
   "cell_type": "code",
   "execution_count": 38,
   "id": "1acef88a-87cf-43b5-a1e8-1e96bea43d93",
   "metadata": {},
   "outputs": [
    {
     "name": "stderr",
     "output_type": "stream",
     "text": [
      "[Stage 24:>                                                         (0 + 4) / 4]\r"
     ]
    },
    {
     "name": "stdout",
     "output_type": "stream",
     "text": [
      "+-------+------------------+-----------------+\n",
      "|summary|   passenger_count|    trip_distance|\n",
      "+-------+------------------+-----------------+\n",
      "|  count|           3542392|          3675412|\n",
      "|   mean|1.3846934500755421|6.206976298167358|\n",
      "| stddev|0.9302303297407405|640.8236808320215|\n",
      "|    min|               0.0|              0.0|\n",
      "|    max|               9.0|        389678.46|\n",
      "+-------+------------------+-----------------+\n",
      "\n"
     ]
    },
    {
     "name": "stderr",
     "output_type": "stream",
     "text": [
      "                                                                                \r"
     ]
    }
   ],
   "source": [
    "yellowTaxiDFAnalyzed = yellowTaxiDF.describe(\"passenger_count\",\"trip_distance\")\n",
    "\n",
    "yellowTaxiDFAnalyzed.show()"
   ]
  },
  {
   "cell_type": "markdown",
   "id": "40b04f9f-2745-46af-9dcf-f2d8e25d42a1",
   "metadata": {},
   "source": [
    "## Clean Data"
   ]
  },
  {
   "cell_type": "markdown",
   "id": "ac578b72-8973-4d42-937b-ced11aefe398",
   "metadata": {},
   "source": [
    "### 1. Accuracy check : filter inaccurate data"
   ]
  },
  {
   "cell_type": "code",
   "execution_count": 41,
   "id": "b89c6e00-d5f2-4242-96a8-b6d66b4102e1",
   "metadata": {},
   "outputs": [
    {
     "name": "stdout",
     "output_type": "stream",
     "text": [
      "Before data cleaning : 3675412\n"
     ]
    },
    {
     "name": "stderr",
     "output_type": "stream",
     "text": [
      "[Stage 30:>                                                         (0 + 4) / 4]\r"
     ]
    },
    {
     "name": "stdout",
     "output_type": "stream",
     "text": [
      "After data cleaning : 3422296\n"
     ]
    },
    {
     "name": "stderr",
     "output_type": "stream",
     "text": [
      "                                                                                \r"
     ]
    }
   ],
   "source": [
    "print(\"Before data cleaning : \"+str(yellowTaxiDF.count()))\n",
    "\n",
    "yellowTaxiDF = yellowTaxiDF.where(\"passenger_count > 0\").filter(col(\"trip_distance\")>0.0)\n",
    "\n",
    "print(\"After data cleaning : \"+str(yellowTaxiDF.count()))"
   ]
  },
  {
   "cell_type": "markdown",
   "id": "11a1e5f8-7087-4a31-bef6-759d67606e09",
   "metadata": {},
   "source": [
    "### 2 a. Completeness check : drop rows with nulls "
   ]
  },
  {
   "cell_type": "code",
   "execution_count": 43,
   "id": "cfdaf51e-8856-4fa9-bba9-b69c29123b95",
   "metadata": {},
   "outputs": [
    {
     "name": "stderr",
     "output_type": "stream",
     "text": [
      "                                                                                \r"
     ]
    },
    {
     "name": "stdout",
     "output_type": "stream",
     "text": [
      "Before operation : 3422296\n"
     ]
    },
    {
     "name": "stderr",
     "output_type": "stream",
     "text": [
      "[Stage 36:>                                                         (0 + 4) / 4]\r"
     ]
    },
    {
     "name": "stdout",
     "output_type": "stream",
     "text": [
      "After operation : 3422296\n"
     ]
    },
    {
     "name": "stderr",
     "output_type": "stream",
     "text": [
      "                                                                                \r"
     ]
    }
   ],
   "source": [
    "print(\"Before operation : \"+str(yellowTaxiDF.count()))\n",
    "\n",
    "yellowTaxiDF = yellowTaxiDF.na.drop(\"all\")\n",
    "\n",
    "print(\"After operation : \"+str(yellowTaxiDF.count()))"
   ]
  },
  {
   "cell_type": "markdown",
   "id": "48c4127a-0dc7-4551-a5e4-150f6d42fd1a",
   "metadata": {},
   "source": [
    "### 2 b. Completeness check : fill null values with default values"
   ]
  },
  {
   "cell_type": "code",
   "execution_count": 45,
   "id": "1c2c2318-d1b0-40e7-a108-547307c91efc",
   "metadata": {},
   "outputs": [],
   "source": [
    "defaultValues = {\"payment_type\":5,\"RatecodeID\":1}\n",
    "\n",
    "yellowTaxiDF = yellowTaxiDF.na.fill(defaultValues)\n"
   ]
  },
  {
   "cell_type": "markdown",
   "id": "3f9b2cea-f598-48f0-b9ab-f7851f7f6ed4",
   "metadata": {},
   "source": [
    "### 3. Uniqueness check : Drop duplicates"
   ]
  },
  {
   "cell_type": "code",
   "execution_count": 47,
   "id": "0d88fdf0-f3a3-417d-ac76-b39b86abf3e7",
   "metadata": {},
   "outputs": [
    {
     "name": "stderr",
     "output_type": "stream",
     "text": [
      "                                                                                \r"
     ]
    },
    {
     "name": "stdout",
     "output_type": "stream",
     "text": [
      "Before operation : 3422296\n"
     ]
    },
    {
     "name": "stderr",
     "output_type": "stream",
     "text": [
      "24/09/18 18:29:51 WARN RowBasedKeyValueBatch: Calling spill() on RowBasedKeyValueBatch. Will not spill but return 0.\n",
      "24/09/18 18:29:51 WARN RowBasedKeyValueBatch: Calling spill() on RowBasedKeyValueBatch. Will not spill but return 0.\n",
      "24/09/18 18:29:51 WARN RowBasedKeyValueBatch: Calling spill() on RowBasedKeyValueBatch. Will not spill but return 0.\n",
      "24/09/18 18:29:51 WARN RowBasedKeyValueBatch: Calling spill() on RowBasedKeyValueBatch. Will not spill but return 0.\n",
      "24/09/18 18:29:51 WARN RowBasedKeyValueBatch: Calling spill() on RowBasedKeyValueBatch. Will not spill but return 0.\n",
      "24/09/18 18:29:51 WARN RowBasedKeyValueBatch: Calling spill() on RowBasedKeyValueBatch. Will not spill but return 0.\n",
      "24/09/18 18:29:51 WARN RowBasedKeyValueBatch: Calling spill() on RowBasedKeyValueBatch. Will not spill but return 0.\n",
      "24/09/18 18:29:51 WARN RowBasedKeyValueBatch: Calling spill() on RowBasedKeyValueBatch. Will not spill but return 0.\n",
      "24/09/18 18:29:57 WARN RowBasedKeyValueBatch: Calling spill() on RowBasedKeyValueBatch. Will not spill but return 0.\n",
      "24/09/18 18:29:57 WARN RowBasedKeyValueBatch: Calling spill() on RowBasedKeyValueBatch. Will not spill but return 0.\n",
      "24/09/18 18:29:57 WARN RowBasedKeyValueBatch: Calling spill() on RowBasedKeyValueBatch. Will not spill but return 0.\n",
      "24/09/18 18:29:57 WARN RowBasedKeyValueBatch: Calling spill() on RowBasedKeyValueBatch. Will not spill but return 0.\n",
      "24/09/18 18:29:57 WARN RowBasedKeyValueBatch: Calling spill() on RowBasedKeyValueBatch. Will not spill but return 0.\n",
      "24/09/18 18:29:57 WARN RowBasedKeyValueBatch: Calling spill() on RowBasedKeyValueBatch. Will not spill but return 0.\n",
      "24/09/18 18:29:57 WARN RowBasedKeyValueBatch: Calling spill() on RowBasedKeyValueBatch. Will not spill but return 0.\n",
      "24/09/18 18:29:57 WARN RowBasedKeyValueBatch: Calling spill() on RowBasedKeyValueBatch. Will not spill but return 0.\n"
     ]
    },
    {
     "name": "stdout",
     "output_type": "stream",
     "text": [
      "After operation : 3422295\n"
     ]
    },
    {
     "name": "stderr",
     "output_type": "stream",
     "text": [
      "                                                                                \r"
     ]
    }
   ],
   "source": [
    "print(\"Before operation : \"+ str(yellowTaxiDF.count()))\n",
    "\n",
    "yellowTaxiDF = yellowTaxiDF.dropDuplicates() # Very costly operation\n",
    "\n",
    "print(\"After operation : \"+ str(yellowTaxiDF.count()))"
   ]
  },
  {
   "cell_type": "markdown",
   "id": "19abc8cd-347b-475b-86fd-0d7a6c68c1f1",
   "metadata": {},
   "source": [
    "### 4. Timeline check : Remove records outside the bound"
   ]
  },
  {
   "cell_type": "code",
   "execution_count": 49,
   "id": "9c1ccd2f-6f55-4022-b7ca-d257c14f1852",
   "metadata": {},
   "outputs": [
    {
     "name": "stderr",
     "output_type": "stream",
     "text": [
      "24/09/18 18:30:01 WARN RowBasedKeyValueBatch: Calling spill() on RowBasedKeyValueBatch. Will not spill but return 0.\n",
      "24/09/18 18:30:01 WARN RowBasedKeyValueBatch: Calling spill() on RowBasedKeyValueBatch. Will not spill but return 0.\n",
      "24/09/18 18:30:01 WARN RowBasedKeyValueBatch: Calling spill() on RowBasedKeyValueBatch. Will not spill but return 0.\n",
      "24/09/18 18:30:01 WARN RowBasedKeyValueBatch: Calling spill() on RowBasedKeyValueBatch. Will not spill but return 0.\n",
      "24/09/18 18:30:01 WARN RowBasedKeyValueBatch: Calling spill() on RowBasedKeyValueBatch. Will not spill but return 0.\n",
      "24/09/18 18:30:01 WARN RowBasedKeyValueBatch: Calling spill() on RowBasedKeyValueBatch. Will not spill but return 0.\n",
      "24/09/18 18:30:01 WARN RowBasedKeyValueBatch: Calling spill() on RowBasedKeyValueBatch. Will not spill but return 0.\n",
      "24/09/18 18:30:01 WARN RowBasedKeyValueBatch: Calling spill() on RowBasedKeyValueBatch. Will not spill but return 0.\n",
      "24/09/18 18:30:05 WARN RowBasedKeyValueBatch: Calling spill() on RowBasedKeyValueBatch. Will not spill but return 0.\n",
      "24/09/18 18:30:05 WARN RowBasedKeyValueBatch: Calling spill() on RowBasedKeyValueBatch. Will not spill but return 0.\n",
      "24/09/18 18:30:05 WARN RowBasedKeyValueBatch: Calling spill() on RowBasedKeyValueBatch. Will not spill but return 0.\n",
      "24/09/18 18:30:05 WARN RowBasedKeyValueBatch: Calling spill() on RowBasedKeyValueBatch. Will not spill but return 0.\n",
      "24/09/18 18:30:05 WARN RowBasedKeyValueBatch: Calling spill() on RowBasedKeyValueBatch. Will not spill but return 0.\n",
      "24/09/18 18:30:05 WARN RowBasedKeyValueBatch: Calling spill() on RowBasedKeyValueBatch. Will not spill but return 0.\n",
      "24/09/18 18:30:05 WARN RowBasedKeyValueBatch: Calling spill() on RowBasedKeyValueBatch. Will not spill but return 0.\n",
      "24/09/18 18:30:05 WARN RowBasedKeyValueBatch: Calling spill() on RowBasedKeyValueBatch. Will not spill but return 0.\n",
      "                                                                                \r"
     ]
    },
    {
     "name": "stdout",
     "output_type": "stream",
     "text": [
      "Before operation : 3422295\n"
     ]
    },
    {
     "name": "stderr",
     "output_type": "stream",
     "text": [
      "24/09/18 18:30:09 WARN RowBasedKeyValueBatch: Calling spill() on RowBasedKeyValueBatch. Will not spill but return 0.\n",
      "24/09/18 18:30:10 WARN RowBasedKeyValueBatch: Calling spill() on RowBasedKeyValueBatch. Will not spill but return 0.\n",
      "24/09/18 18:30:10 WARN RowBasedKeyValueBatch: Calling spill() on RowBasedKeyValueBatch. Will not spill but return 0.\n",
      "24/09/18 18:30:10 WARN RowBasedKeyValueBatch: Calling spill() on RowBasedKeyValueBatch. Will not spill but return 0.\n",
      "24/09/18 18:30:10 WARN RowBasedKeyValueBatch: Calling spill() on RowBasedKeyValueBatch. Will not spill but return 0.\n",
      "24/09/18 18:30:10 WARN RowBasedKeyValueBatch: Calling spill() on RowBasedKeyValueBatch. Will not spill but return 0.\n",
      "24/09/18 18:30:10 WARN RowBasedKeyValueBatch: Calling spill() on RowBasedKeyValueBatch. Will not spill but return 0.\n",
      "24/09/18 18:30:10 WARN RowBasedKeyValueBatch: Calling spill() on RowBasedKeyValueBatch. Will not spill but return 0.\n",
      "24/09/18 18:30:13 WARN RowBasedKeyValueBatch: Calling spill() on RowBasedKeyValueBatch. Will not spill but return 0.\n",
      "24/09/18 18:30:13 WARN RowBasedKeyValueBatch: Calling spill() on RowBasedKeyValueBatch. Will not spill but return 0.\n",
      "24/09/18 18:30:13 WARN RowBasedKeyValueBatch: Calling spill() on RowBasedKeyValueBatch. Will not spill but return 0.\n",
      "24/09/18 18:30:13 WARN RowBasedKeyValueBatch: Calling spill() on RowBasedKeyValueBatch. Will not spill but return 0.\n",
      "24/09/18 18:30:13 WARN RowBasedKeyValueBatch: Calling spill() on RowBasedKeyValueBatch. Will not spill but return 0.\n",
      "24/09/18 18:30:13 WARN RowBasedKeyValueBatch: Calling spill() on RowBasedKeyValueBatch. Will not spill but return 0.\n",
      "24/09/18 18:30:13 WARN RowBasedKeyValueBatch: Calling spill() on RowBasedKeyValueBatch. Will not spill but return 0.\n",
      "24/09/18 18:30:13 WARN RowBasedKeyValueBatch: Calling spill() on RowBasedKeyValueBatch. Will not spill but return 0.\n",
      "[Stage 56:>                                                         (0 + 4) / 5]\r"
     ]
    },
    {
     "name": "stdout",
     "output_type": "stream",
     "text": [
      "After operation : 3393897\n"
     ]
    },
    {
     "name": "stderr",
     "output_type": "stream",
     "text": [
      "                                                                                \r"
     ]
    }
   ],
   "source": [
    "print(\"Before operation : \"+str(yellowTaxiDF.count()))\n",
    "\n",
    "yellowTaxiDF = yellowTaxiDF.where(\"tpep_pickup_datetime > '2022-10-01' and tpep_dropoff_datetime < '2022-11-01'\")\n",
    "\n",
    "print(\"After operation : \"+str(yellowTaxiDF.count()))"
   ]
  },
  {
   "cell_type": "code",
   "execution_count": 50,
   "id": "e5d1b661-da95-4704-9a48-f12843330c0f",
   "metadata": {},
   "outputs": [
    {
     "name": "stderr",
     "output_type": "stream",
     "text": [
      "24/09/18 18:30:17 WARN RowBasedKeyValueBatch: Calling spill() on RowBasedKeyValueBatch. Will not spill but return 0.\n",
      "24/09/18 18:30:17 WARN RowBasedKeyValueBatch: Calling spill() on RowBasedKeyValueBatch. Will not spill but return 0.\n",
      "24/09/18 18:30:17 WARN RowBasedKeyValueBatch: Calling spill() on RowBasedKeyValueBatch. Will not spill but return 0.\n",
      "24/09/18 18:30:17 WARN RowBasedKeyValueBatch: Calling spill() on RowBasedKeyValueBatch. Will not spill but return 0.\n",
      "24/09/18 18:30:17 WARN RowBasedKeyValueBatch: Calling spill() on RowBasedKeyValueBatch. Will not spill but return 0.\n",
      "24/09/18 18:30:17 WARN RowBasedKeyValueBatch: Calling spill() on RowBasedKeyValueBatch. Will not spill but return 0.\n",
      "24/09/18 18:30:17 WARN RowBasedKeyValueBatch: Calling spill() on RowBasedKeyValueBatch. Will not spill but return 0.\n",
      "24/09/18 18:30:17 WARN RowBasedKeyValueBatch: Calling spill() on RowBasedKeyValueBatch. Will not spill but return 0.\n",
      "24/09/18 18:30:22 WARN RowBasedKeyValueBatch: Calling spill() on RowBasedKeyValueBatch. Will not spill but return 0.\n",
      "24/09/18 18:30:22 WARN RowBasedKeyValueBatch: Calling spill() on RowBasedKeyValueBatch. Will not spill but return 0.\n",
      "24/09/18 18:30:22 WARN RowBasedKeyValueBatch: Calling spill() on RowBasedKeyValueBatch. Will not spill but return 0.\n",
      "24/09/18 18:30:22 WARN RowBasedKeyValueBatch: Calling spill() on RowBasedKeyValueBatch. Will not spill but return 0.\n",
      "24/09/18 18:30:22 WARN RowBasedKeyValueBatch: Calling spill() on RowBasedKeyValueBatch. Will not spill but return 0.\n",
      "24/09/18 18:30:22 WARN RowBasedKeyValueBatch: Calling spill() on RowBasedKeyValueBatch. Will not spill but return 0.\n",
      "24/09/18 18:30:22 WARN RowBasedKeyValueBatch: Calling spill() on RowBasedKeyValueBatch. Will not spill but return 0.\n",
      "24/09/18 18:30:22 WARN RowBasedKeyValueBatch: Calling spill() on RowBasedKeyValueBatch. Will not spill but return 0.\n",
      "[Stage 62:>                                                         (0 + 4) / 5]\r"
     ]
    },
    {
     "name": "stdout",
     "output_type": "stream",
     "text": [
      "3393897\n"
     ]
    },
    {
     "name": "stderr",
     "output_type": "stream",
     "text": [
      "                                                                                \r"
     ]
    }
   ],
   "source": [
    "defaultValues = {\"payment_type\":5,\"RatecodeID\":1}\n",
    "\n",
    "\n",
    "yellowTaxiDFPath = \"/Users/tulasiramreddygade/Downloads/apache-spark-3-fundamentals/DataFiles/Raw/YellowTaxis_202210.csv\"\n",
    "\n",
    "yellowTaxiDF = spark.read.option(\"header\",\"true\").schema(yellowTaxiSchema).csv(yellowTaxiDFPath)\n",
    "\n",
    "yellowTaxiDF = (yellowTaxiDF\n",
    "                .where(\"passenger_count > 0\")\n",
    "                .filter(col(\"trip_distance\")>0.0)\n",
    "                .na.drop(\"all\")\n",
    "                .na.fill(defaultValues)\n",
    "                .dropDuplicates()\n",
    "                .where(\"tpep_pickup_datetime > '2022-10-01' and tpep_dropoff_datetime < '2022-11-01'\")\n",
    "               )\n",
    "\n",
    "print(yellowTaxiDF.count())"
   ]
  },
  {
   "cell_type": "markdown",
   "id": "5fcb215b-ba94-4087-ae3b-d1e5dc34a42d",
   "metadata": {},
   "source": [
    "## Applying business specific operations"
   ]
  },
  {
   "cell_type": "code",
   "execution_count": 52,
   "id": "b3541799-b0c2-4a5b-b0aa-c2fb2bc73ac2",
   "metadata": {},
   "outputs": [],
   "source": [
    "yellowTaxiDFPath = \"/Users/tulasiramreddygade/Downloads/apache-spark-3-fundamentals/DataFiles/Raw/YellowTaxis_202210.csv\"\n",
    "\n",
    "yellowTaxiDF = spark.read.option(\"header\",\"true\").schema(yellowTaxiSchema).csv(yellowTaxiDFPath)"
   ]
  },
  {
   "cell_type": "code",
   "execution_count": 53,
   "id": "e49093a2-3e64-4523-a54a-4b1355400ea7",
   "metadata": {},
   "outputs": [
    {
     "name": "stdout",
     "output_type": "stream",
     "text": [
      "root\n",
      " |-- VendorId: integer (nullable = true)\n",
      " |-- tpep_pickup_datetime: timestamp (nullable = true)\n",
      " |-- tpep_dropoff_datetime: timestamp (nullable = true)\n",
      " |-- passenger_count: double (nullable = true)\n",
      " |-- trip_distance: double (nullable = true)\n",
      " |-- RatecodeID: double (nullable = true)\n",
      " |-- store_and_fwd_flag: string (nullable = true)\n",
      " |-- PULocationID: integer (nullable = true)\n",
      " |-- DOLocationID: integer (nullable = true)\n",
      " |-- payment_type: integer (nullable = true)\n",
      " |-- fare_amount: double (nullable = true)\n",
      " |-- extra: double (nullable = true)\n",
      " |-- mta_tax: double (nullable = true)\n",
      " |-- tip_amount: double (nullable = true)\n",
      " |-- tolls_amount: double (nullable = true)\n",
      " |-- improvement_surcharge: double (nullable = true)\n",
      " |-- total_amount: double (nullable = true)\n",
      " |-- congestion_surcharge: double (nullable = true)\n",
      " |-- airport_fee: double (nullable = true)\n",
      "\n"
     ]
    }
   ],
   "source": [
    "yellowTaxiDF.count()\n",
    "yellowTaxiDF.printSchema()"
   ]
  },
  {
   "cell_type": "markdown",
   "id": "8847c28a-820b-4c3f-809e-e4f753ae2fea",
   "metadata": {},
   "source": [
    "### 1. Select limited columns"
   ]
  },
  {
   "cell_type": "code",
   "execution_count": 55,
   "id": "b28d57de-8acb-43a2-a6f4-433447118f03",
   "metadata": {},
   "outputs": [
    {
     "name": "stdout",
     "output_type": "stream",
     "text": [
      "root\n",
      " |-- VendorId: integer (nullable = true)\n",
      " |-- passenger_count: integer (nullable = true)\n",
      " |-- TripDistance: double (nullable = true)\n",
      " |-- tpep_pickup_datetime: timestamp (nullable = true)\n",
      " |-- tpep_dropoff_datetime: timestamp (nullable = true)\n",
      " |-- PULocationID: integer (nullable = true)\n",
      " |-- DOLocationID: integer (nullable = true)\n",
      " |-- RatecodeID: double (nullable = true)\n",
      " |-- total_amount: double (nullable = true)\n",
      " |-- payment_type: integer (nullable = true)\n",
      " |-- airport_fee: double (nullable = true)\n",
      "\n",
      "root\n",
      " |-- VendorId: integer (nullable = true)\n",
      " |-- passenger_count: integer (nullable = true)\n",
      " |-- TripDistance: double (nullable = true)\n",
      " |-- tpep_pickup_datetime: timestamp (nullable = true)\n",
      " |-- tpep_dropoff_datetime: timestamp (nullable = true)\n",
      " |-- PULocationID: integer (nullable = true)\n",
      " |-- DOLocationID: integer (nullable = true)\n",
      " |-- RatecodeID: double (nullable = true)\n",
      " |-- total_amount: double (nullable = true)\n",
      " |-- payment_type: integer (nullable = true)\n",
      "\n"
     ]
    }
   ],
   "source": [
    "yellowTaxiDF = (\n",
    "    yellowTaxiDF.select(\n",
    "        # Select only limited columns\n",
    "        \"VendorId\",\n",
    "        col(\"passenger_count\").cast(IntegerType()),\n",
    "        column(\"trip_distance\").alias(\"TripDistance\"),\n",
    "        yellowTaxiDF.tpep_pickup_datetime,\n",
    "        \"tpep_dropoff_datetime\",\n",
    "        \"PULocationID\",\n",
    "        \"DOLocationID\",\n",
    "        \"RatecodeID\",\n",
    "        \"total_amount\",\n",
    "        \"payment_type\",\n",
    "        \"airport_fee\"\n",
    "    )\n",
    ")\n",
    "\n",
    "yellowTaxiDF.printSchema()\n",
    "yellowTaxiDF = yellowTaxiDF.drop(\"airport_fee\")\n",
    "yellowTaxiDF.printSchema()"
   ]
  },
  {
   "cell_type": "markdown",
   "id": "cf532040-57df-4bf6-9c22-282bfb5bbc39",
   "metadata": {},
   "source": [
    "### 2. Rename columns"
   ]
  },
  {
   "cell_type": "code",
   "execution_count": 57,
   "id": "dfcecff1-ce37-4bd7-bc2e-f852bdeacc9d",
   "metadata": {},
   "outputs": [
    {
     "name": "stdout",
     "output_type": "stream",
     "text": [
      "root\n",
      " |-- VendorId: integer (nullable = true)\n",
      " |-- PassengerCount: integer (nullable = true)\n",
      " |-- TripDistance: double (nullable = true)\n",
      " |-- PickupTime: timestamp (nullable = true)\n",
      " |-- DropTime: timestamp (nullable = true)\n",
      " |-- PickupLocationId: integer (nullable = true)\n",
      " |-- DropLocationId: integer (nullable = true)\n",
      " |-- RatecodeID: double (nullable = true)\n",
      " |-- TotalAmount: double (nullable = true)\n",
      " |-- PaymentType: integer (nullable = true)\n",
      "\n"
     ]
    }
   ],
   "source": [
    "yellowTaxiDF = (\n",
    "    yellowTaxiDF\n",
    "    .withColumnRenamed(\"passenger_count\",\"PassengerCount\")\n",
    "    .withColumnRenamed(\"tpep_pickup_datetime\",\"PickupTime\")\n",
    "    .withColumnRenamed(\"tpep_dropoff_datetime\",\"DropTime\")\n",
    "    .withColumnRenamed(\"PULocationID\",\"PickupLocationId\")\n",
    "    .withColumnRenamed(\"DOLocationID\",\"DropLocationId\")\n",
    "    .withColumnRenamed(\"total_amount\",\"TotalAmount\")\n",
    "    .withColumnRenamed(\"payment_type\",\"PaymentType\")\n",
    ")\n",
    "\n",
    "yellowTaxiDF.printSchema()\n"
   ]
  },
  {
   "cell_type": "markdown",
   "id": "9be3480e-d8b3-4625-b143-551939526d39",
   "metadata": {},
   "source": [
    "### 3.a. Create derived coloumns - TripYear, TripMonth, TripDay"
   ]
  },
  {
   "cell_type": "code",
   "execution_count": 59,
   "id": "0d056c92-cb6c-408d-98b4-49e7413026bb",
   "metadata": {},
   "outputs": [
    {
     "name": "stdout",
     "output_type": "stream",
     "text": [
      "root\n",
      " |-- VendorId: integer (nullable = true)\n",
      " |-- PassengerCount: integer (nullable = true)\n",
      " |-- TripDistance: double (nullable = true)\n",
      " |-- PickupTime: timestamp (nullable = true)\n",
      " |-- DropTime: timestamp (nullable = true)\n",
      " |-- PickupLocationId: integer (nullable = true)\n",
      " |-- DropLocationId: integer (nullable = true)\n",
      " |-- RatecodeID: double (nullable = true)\n",
      " |-- TotalAmount: double (nullable = true)\n",
      " |-- PaymentType: integer (nullable = true)\n",
      " |-- TripYear: integer (nullable = true)\n",
      " |-- TripMonth: integer (nullable = true)\n",
      " |-- TripDay: integer (nullable = true)\n",
      "\n"
     ]
    }
   ],
   "source": [
    "yellowTaxiDF = (\n",
    "    yellowTaxiDF\n",
    "    .withColumn(\"TripYear\",year(col(\"PickupTime\")))\n",
    "    .select(\n",
    "        \"*\",\n",
    "        expr(\"month(PickupTime) AS TripMonth\"),\n",
    "        dayofmonth(col(\"PickupTime\")).alias(\"TripDay\")\n",
    "    )\n",
    ")\n",
    "# any of the operation will give the same time\n",
    "yellowTaxiDF.printSchema()"
   ]
  },
  {
   "cell_type": "markdown",
   "id": "a530f9bc-1be0-430e-9b42-e32797d14c6a",
   "metadata": {},
   "source": [
    "### 3.b. Create derived cloumn - TripTimeInMinutes"
   ]
  },
  {
   "cell_type": "code",
   "execution_count": 61,
   "id": "1c73ab7b-ae83-4e8c-b254-c55c979dd0ca",
   "metadata": {},
   "outputs": [
    {
     "name": "stdout",
     "output_type": "stream",
     "text": [
      "root\n",
      " |-- VendorId: integer (nullable = true)\n",
      " |-- PassengerCount: integer (nullable = true)\n",
      " |-- TripDistance: double (nullable = true)\n",
      " |-- PickupTime: timestamp (nullable = true)\n",
      " |-- DropTime: timestamp (nullable = true)\n",
      " |-- PickupLocationId: integer (nullable = true)\n",
      " |-- DropLocationId: integer (nullable = true)\n",
      " |-- RatecodeID: double (nullable = true)\n",
      " |-- TotalAmount: double (nullable = true)\n",
      " |-- PaymentType: integer (nullable = true)\n",
      " |-- TripYear: integer (nullable = true)\n",
      " |-- TripMonth: integer (nullable = true)\n",
      " |-- TripDay: integer (nullable = true)\n",
      " |-- TripTimeInMinutes: double (nullable = true)\n",
      "\n"
     ]
    }
   ],
   "source": [
    "# option 1\n",
    "yellowTaxiDF = (\n",
    "    yellowTaxiDF\n",
    "    .withColumn(\"TripTimeInMinutes\",\n",
    "                round(\n",
    "                        (unix_timestamp(col(\"DropTime\"))\n",
    "                         -\n",
    "                         unix_timestamp(col(\"PickupTime\")))\n",
    "                            / 60\n",
    "                )\n",
    "        )\n",
    ")\n",
    "\n",
    "yellowTaxiDF.printSchema()\n"
   ]
  },
  {
   "cell_type": "code",
   "execution_count": 62,
   "id": "7543012c-91aa-4081-9a5f-4ee68b0deece",
   "metadata": {},
   "outputs": [
    {
     "name": "stdout",
     "output_type": "stream",
     "text": [
      "root\n",
      " |-- VendorId: integer (nullable = true)\n",
      " |-- PassengerCount: integer (nullable = true)\n",
      " |-- TripDistance: double (nullable = true)\n",
      " |-- PickupTime: timestamp (nullable = true)\n",
      " |-- DropTime: timestamp (nullable = true)\n",
      " |-- PickupLocationId: integer (nullable = true)\n",
      " |-- DropLocationId: integer (nullable = true)\n",
      " |-- RatecodeID: double (nullable = true)\n",
      " |-- TotalAmount: double (nullable = true)\n",
      " |-- PaymentType: integer (nullable = true)\n",
      " |-- TripYear: integer (nullable = true)\n",
      " |-- TripMonth: integer (nullable = true)\n",
      " |-- TripDay: integer (nullable = true)\n",
      " |-- TripTimeInMinutes: double (nullable = true)\n",
      "\n"
     ]
    }
   ],
   "source": [
    "tripTimeInMinutesExpr = (unix_timestamp(col(\"DropTime\")) - unix_timestamp(col(\"PickupTime\")))\n",
    "\n",
    "# Dynamic Expressions\n",
    "\n",
    "tripTimeInMinutesExpr = round(tripTimeInMinutesExpr/60)\n",
    "\n",
    "yellowTaxiDF = yellowTaxiDF.withColumn(\"TripTimeInMinutes\",tripTimeInMinutesExpr)\n",
    "\n",
    "yellowTaxiDF.printSchema()"
   ]
  },
  {
   "cell_type": "markdown",
   "id": "202f8921-d550-4ef9-956f-bae7125589d2",
   "metadata": {},
   "source": [
    "### 3.c. Create derived column - TripType"
   ]
  },
  {
   "cell_type": "code",
   "execution_count": 64,
   "id": "f28b3c9a-9718-4fc4-9ae2-c21150e844a6",
   "metadata": {},
   "outputs": [
    {
     "name": "stdout",
     "output_type": "stream",
     "text": [
      "root\n",
      " |-- VendorId: integer (nullable = true)\n",
      " |-- PassengerCount: integer (nullable = true)\n",
      " |-- TripDistance: double (nullable = true)\n",
      " |-- PickupTime: timestamp (nullable = true)\n",
      " |-- DropTime: timestamp (nullable = true)\n",
      " |-- PickupLocationId: integer (nullable = true)\n",
      " |-- DropLocationId: integer (nullable = true)\n",
      " |-- TotalAmount: double (nullable = true)\n",
      " |-- PaymentType: integer (nullable = true)\n",
      " |-- TripYear: integer (nullable = true)\n",
      " |-- TripMonth: integer (nullable = true)\n",
      " |-- TripDay: integer (nullable = true)\n",
      " |-- TripTimeInMinutes: double (nullable = true)\n",
      " |-- TripType: string (nullable = false)\n",
      "\n"
     ]
    }
   ],
   "source": [
    "tripTypeColumnExpr = (\n",
    "\n",
    "    when(\n",
    "        col(\"RatecodeID\") == 6,\n",
    "        \"SharedTrip\"\n",
    "    ).otherwise(\"SoloTrip\")\n",
    ")\n",
    "\n",
    "yellowTaxiDF = (\n",
    "\n",
    "    yellowTaxiDF\n",
    "    .withColumn(\"TripType\",tripTypeColumnExpr)\n",
    "    .drop(\"RatecodeID\")\n",
    ")\n",
    "\n",
    "yellowTaxiDF.printSchema()"
   ]
  },
  {
   "cell_type": "markdown",
   "id": "5883cffe-8f85-4e6c-a4de-4bb27c16d389",
   "metadata": {},
   "source": [
    "### Check Execution Plan"
   ]
  },
  {
   "cell_type": "code",
   "execution_count": 66,
   "id": "57f3c1ee-08cc-4d8f-81bc-6437ece4ee6c",
   "metadata": {},
   "outputs": [
    {
     "name": "stdout",
     "output_type": "stream",
     "text": [
      "== Parsed Logical Plan ==\n",
      "Project [VendorId#1265, PassengerCount#1351, TripDistance#1327, PickupTime#1362, DropTime#1373, PickupLocationId#1384, DropLocationId#1395, TotalAmount#1406, PaymentType#1417, TripYear#1428, TripMonth#1440, TripDay#1441, TripTimeInMinutes#1470, TripType#1485]\n",
      "+- Project [VendorId#1265, PassengerCount#1351, TripDistance#1327, PickupTime#1362, DropTime#1373, PickupLocationId#1384, DropLocationId#1395, RatecodeID#1270, TotalAmount#1406, PaymentType#1417, TripYear#1428, TripMonth#1440, TripDay#1441, TripTimeInMinutes#1470, CASE WHEN (RatecodeID#1270 = cast(6 as double)) THEN SharedTrip ELSE SoloTrip END AS TripType#1485]\n",
      "   +- Project [VendorId#1265, PassengerCount#1351, TripDistance#1327, PickupTime#1362, DropTime#1373, PickupLocationId#1384, DropLocationId#1395, RatecodeID#1270, TotalAmount#1406, PaymentType#1417, TripYear#1428, TripMonth#1440, TripDay#1441, round((cast((unix_timestamp(DropTime#1373, yyyy-MM-dd HH:mm:ss, Some(Asia/Kolkata), false) - unix_timestamp(PickupTime#1362, yyyy-MM-dd HH:mm:ss, Some(Asia/Kolkata), false)) as double) / cast(60 as double)), 0) AS TripTimeInMinutes#1470]\n",
      "      +- Project [VendorId#1265, PassengerCount#1351, TripDistance#1327, PickupTime#1362, DropTime#1373, PickupLocationId#1384, DropLocationId#1395, RatecodeID#1270, TotalAmount#1406, PaymentType#1417, TripYear#1428, TripMonth#1440, TripDay#1441, round((cast((unix_timestamp(DropTime#1373, yyyy-MM-dd HH:mm:ss, Some(Asia/Kolkata), false) - unix_timestamp(PickupTime#1362, yyyy-MM-dd HH:mm:ss, Some(Asia/Kolkata), false)) as double) / cast(60 as double)), 0) AS TripTimeInMinutes#1455]\n",
      "         +- Project [VendorId#1265, PassengerCount#1351, TripDistance#1327, PickupTime#1362, DropTime#1373, PickupLocationId#1384, DropLocationId#1395, RatecodeID#1270, TotalAmount#1406, PaymentType#1417, TripYear#1428, month(cast(PickupTime#1362 as date)) AS TripMonth#1440, dayofmonth(cast(PickupTime#1362 as date)) AS TripDay#1441]\n",
      "            +- Project [VendorId#1265, PassengerCount#1351, TripDistance#1327, PickupTime#1362, DropTime#1373, PickupLocationId#1384, DropLocationId#1395, RatecodeID#1270, TotalAmount#1406, PaymentType#1417, year(cast(PickupTime#1362 as date)) AS TripYear#1428]\n",
      "               +- Project [VendorId#1265, PassengerCount#1351, TripDistance#1327, PickupTime#1362, DropTime#1373, PickupLocationId#1384, DropLocationId#1395, RatecodeID#1270, TotalAmount#1406, payment_type#1274 AS PaymentType#1417]\n",
      "                  +- Project [VendorId#1265, PassengerCount#1351, TripDistance#1327, PickupTime#1362, DropTime#1373, PickupLocationId#1384, DropLocationId#1395, RatecodeID#1270, total_amount#1281 AS TotalAmount#1406, payment_type#1274]\n",
      "                     +- Project [VendorId#1265, PassengerCount#1351, TripDistance#1327, PickupTime#1362, DropTime#1373, PickupLocationId#1384, DOLocationID#1273 AS DropLocationId#1395, RatecodeID#1270, total_amount#1281, payment_type#1274]\n",
      "                        +- Project [VendorId#1265, PassengerCount#1351, TripDistance#1327, PickupTime#1362, DropTime#1373, PULocationID#1272 AS PickupLocationId#1384, DOLocationID#1273, RatecodeID#1270, total_amount#1281, payment_type#1274]\n",
      "                           +- Project [VendorId#1265, PassengerCount#1351, TripDistance#1327, PickupTime#1362, tpep_dropoff_datetime#1267 AS DropTime#1373, PULocationID#1272, DOLocationID#1273, RatecodeID#1270, total_amount#1281, payment_type#1274]\n",
      "                              +- Project [VendorId#1265, PassengerCount#1351, TripDistance#1327, tpep_pickup_datetime#1266 AS PickupTime#1362, tpep_dropoff_datetime#1267, PULocationID#1272, DOLocationID#1273, RatecodeID#1270, total_amount#1281, payment_type#1274]\n",
      "                                 +- Project [VendorId#1265, passenger_count#1328 AS PassengerCount#1351, TripDistance#1327, tpep_pickup_datetime#1266, tpep_dropoff_datetime#1267, PULocationID#1272, DOLocationID#1273, RatecodeID#1270, total_amount#1281, payment_type#1274]\n",
      "                                    +- Project [VendorId#1265, passenger_count#1328, TripDistance#1327, tpep_pickup_datetime#1266, tpep_dropoff_datetime#1267, PULocationID#1272, DOLocationID#1273, RatecodeID#1270, total_amount#1281, payment_type#1274]\n",
      "                                       +- Project [VendorId#1265, cast(passenger_count#1268 as int) AS passenger_count#1328, trip_distance#1269 AS TripDistance#1327, tpep_pickup_datetime#1266, tpep_dropoff_datetime#1267, PULocationID#1272, DOLocationID#1273, RatecodeID#1270, total_amount#1281, payment_type#1274, airport_fee#1283]\n",
      "                                          +- Relation [VendorId#1265,tpep_pickup_datetime#1266,tpep_dropoff_datetime#1267,passenger_count#1268,trip_distance#1269,RatecodeID#1270,store_and_fwd_flag#1271,PULocationID#1272,DOLocationID#1273,payment_type#1274,fare_amount#1275,extra#1276,mta_tax#1277,tip_amount#1278,tolls_amount#1279,improvement_surcharge#1280,total_amount#1281,congestion_surcharge#1282,airport_fee#1283] csv\n",
      "\n",
      "== Analyzed Logical Plan ==\n",
      "VendorId: int, PassengerCount: int, TripDistance: double, PickupTime: timestamp, DropTime: timestamp, PickupLocationId: int, DropLocationId: int, TotalAmount: double, PaymentType: int, TripYear: int, TripMonth: int, TripDay: int, TripTimeInMinutes: double, TripType: string\n",
      "Project [VendorId#1265, PassengerCount#1351, TripDistance#1327, PickupTime#1362, DropTime#1373, PickupLocationId#1384, DropLocationId#1395, TotalAmount#1406, PaymentType#1417, TripYear#1428, TripMonth#1440, TripDay#1441, TripTimeInMinutes#1470, TripType#1485]\n",
      "+- Project [VendorId#1265, PassengerCount#1351, TripDistance#1327, PickupTime#1362, DropTime#1373, PickupLocationId#1384, DropLocationId#1395, RatecodeID#1270, TotalAmount#1406, PaymentType#1417, TripYear#1428, TripMonth#1440, TripDay#1441, TripTimeInMinutes#1470, CASE WHEN (RatecodeID#1270 = cast(6 as double)) THEN SharedTrip ELSE SoloTrip END AS TripType#1485]\n",
      "   +- Project [VendorId#1265, PassengerCount#1351, TripDistance#1327, PickupTime#1362, DropTime#1373, PickupLocationId#1384, DropLocationId#1395, RatecodeID#1270, TotalAmount#1406, PaymentType#1417, TripYear#1428, TripMonth#1440, TripDay#1441, round((cast((unix_timestamp(DropTime#1373, yyyy-MM-dd HH:mm:ss, Some(Asia/Kolkata), false) - unix_timestamp(PickupTime#1362, yyyy-MM-dd HH:mm:ss, Some(Asia/Kolkata), false)) as double) / cast(60 as double)), 0) AS TripTimeInMinutes#1470]\n",
      "      +- Project [VendorId#1265, PassengerCount#1351, TripDistance#1327, PickupTime#1362, DropTime#1373, PickupLocationId#1384, DropLocationId#1395, RatecodeID#1270, TotalAmount#1406, PaymentType#1417, TripYear#1428, TripMonth#1440, TripDay#1441, round((cast((unix_timestamp(DropTime#1373, yyyy-MM-dd HH:mm:ss, Some(Asia/Kolkata), false) - unix_timestamp(PickupTime#1362, yyyy-MM-dd HH:mm:ss, Some(Asia/Kolkata), false)) as double) / cast(60 as double)), 0) AS TripTimeInMinutes#1455]\n",
      "         +- Project [VendorId#1265, PassengerCount#1351, TripDistance#1327, PickupTime#1362, DropTime#1373, PickupLocationId#1384, DropLocationId#1395, RatecodeID#1270, TotalAmount#1406, PaymentType#1417, TripYear#1428, month(cast(PickupTime#1362 as date)) AS TripMonth#1440, dayofmonth(cast(PickupTime#1362 as date)) AS TripDay#1441]\n",
      "            +- Project [VendorId#1265, PassengerCount#1351, TripDistance#1327, PickupTime#1362, DropTime#1373, PickupLocationId#1384, DropLocationId#1395, RatecodeID#1270, TotalAmount#1406, PaymentType#1417, year(cast(PickupTime#1362 as date)) AS TripYear#1428]\n",
      "               +- Project [VendorId#1265, PassengerCount#1351, TripDistance#1327, PickupTime#1362, DropTime#1373, PickupLocationId#1384, DropLocationId#1395, RatecodeID#1270, TotalAmount#1406, payment_type#1274 AS PaymentType#1417]\n",
      "                  +- Project [VendorId#1265, PassengerCount#1351, TripDistance#1327, PickupTime#1362, DropTime#1373, PickupLocationId#1384, DropLocationId#1395, RatecodeID#1270, total_amount#1281 AS TotalAmount#1406, payment_type#1274]\n",
      "                     +- Project [VendorId#1265, PassengerCount#1351, TripDistance#1327, PickupTime#1362, DropTime#1373, PickupLocationId#1384, DOLocationID#1273 AS DropLocationId#1395, RatecodeID#1270, total_amount#1281, payment_type#1274]\n",
      "                        +- Project [VendorId#1265, PassengerCount#1351, TripDistance#1327, PickupTime#1362, DropTime#1373, PULocationID#1272 AS PickupLocationId#1384, DOLocationID#1273, RatecodeID#1270, total_amount#1281, payment_type#1274]\n",
      "                           +- Project [VendorId#1265, PassengerCount#1351, TripDistance#1327, PickupTime#1362, tpep_dropoff_datetime#1267 AS DropTime#1373, PULocationID#1272, DOLocationID#1273, RatecodeID#1270, total_amount#1281, payment_type#1274]\n",
      "                              +- Project [VendorId#1265, PassengerCount#1351, TripDistance#1327, tpep_pickup_datetime#1266 AS PickupTime#1362, tpep_dropoff_datetime#1267, PULocationID#1272, DOLocationID#1273, RatecodeID#1270, total_amount#1281, payment_type#1274]\n",
      "                                 +- Project [VendorId#1265, passenger_count#1328 AS PassengerCount#1351, TripDistance#1327, tpep_pickup_datetime#1266, tpep_dropoff_datetime#1267, PULocationID#1272, DOLocationID#1273, RatecodeID#1270, total_amount#1281, payment_type#1274]\n",
      "                                    +- Project [VendorId#1265, passenger_count#1328, TripDistance#1327, tpep_pickup_datetime#1266, tpep_dropoff_datetime#1267, PULocationID#1272, DOLocationID#1273, RatecodeID#1270, total_amount#1281, payment_type#1274]\n",
      "                                       +- Project [VendorId#1265, cast(passenger_count#1268 as int) AS passenger_count#1328, trip_distance#1269 AS TripDistance#1327, tpep_pickup_datetime#1266, tpep_dropoff_datetime#1267, PULocationID#1272, DOLocationID#1273, RatecodeID#1270, total_amount#1281, payment_type#1274, airport_fee#1283]\n",
      "                                          +- Relation [VendorId#1265,tpep_pickup_datetime#1266,tpep_dropoff_datetime#1267,passenger_count#1268,trip_distance#1269,RatecodeID#1270,store_and_fwd_flag#1271,PULocationID#1272,DOLocationID#1273,payment_type#1274,fare_amount#1275,extra#1276,mta_tax#1277,tip_amount#1278,tolls_amount#1279,improvement_surcharge#1280,total_amount#1281,congestion_surcharge#1282,airport_fee#1283] csv\n",
      "\n",
      "== Optimized Logical Plan ==\n",
      "Project [VendorId#1265, cast(passenger_count#1268 as int) AS PassengerCount#1351, trip_distance#1269 AS TripDistance#1327, tpep_pickup_datetime#1266 AS PickupTime#1362, tpep_dropoff_datetime#1267 AS DropTime#1373, PULocationID#1272 AS PickupLocationId#1384, DOLocationID#1273 AS DropLocationId#1395, total_amount#1281 AS TotalAmount#1406, payment_type#1274 AS PaymentType#1417, year(cast(tpep_pickup_datetime#1266 as date)) AS TripYear#1428, month(cast(tpep_pickup_datetime#1266 as date)) AS TripMonth#1440, dayofmonth(cast(tpep_pickup_datetime#1266 as date)) AS TripDay#1441, round((cast((unix_timestamp(tpep_dropoff_datetime#1267, yyyy-MM-dd HH:mm:ss, Some(Asia/Kolkata), false) - unix_timestamp(tpep_pickup_datetime#1266, yyyy-MM-dd HH:mm:ss, Some(Asia/Kolkata), false)) as double) / 60.0), 0) AS TripTimeInMinutes#1470, CASE WHEN (RatecodeID#1270 = 6.0) THEN SharedTrip ELSE SoloTrip END AS TripType#1485]\n",
      "+- Relation [VendorId#1265,tpep_pickup_datetime#1266,tpep_dropoff_datetime#1267,passenger_count#1268,trip_distance#1269,RatecodeID#1270,store_and_fwd_flag#1271,PULocationID#1272,DOLocationID#1273,payment_type#1274,fare_amount#1275,extra#1276,mta_tax#1277,tip_amount#1278,tolls_amount#1279,improvement_surcharge#1280,total_amount#1281,congestion_surcharge#1282,airport_fee#1283] csv\n",
      "\n",
      "== Physical Plan ==\n",
      "*(1) Project [VendorId#1265, cast(passenger_count#1268 as int) AS PassengerCount#1351, trip_distance#1269 AS TripDistance#1327, tpep_pickup_datetime#1266 AS PickupTime#1362, tpep_dropoff_datetime#1267 AS DropTime#1373, PULocationID#1272 AS PickupLocationId#1384, DOLocationID#1273 AS DropLocationId#1395, total_amount#1281 AS TotalAmount#1406, payment_type#1274 AS PaymentType#1417, year(cast(tpep_pickup_datetime#1266 as date)) AS TripYear#1428, month(cast(tpep_pickup_datetime#1266 as date)) AS TripMonth#1440, dayofmonth(cast(tpep_pickup_datetime#1266 as date)) AS TripDay#1441, round((cast((unix_timestamp(tpep_dropoff_datetime#1267, yyyy-MM-dd HH:mm:ss, Some(Asia/Kolkata), false) - unix_timestamp(tpep_pickup_datetime#1266, yyyy-MM-dd HH:mm:ss, Some(Asia/Kolkata), false)) as double) / 60.0), 0) AS TripTimeInMinutes#1470, CASE WHEN (RatecodeID#1270 = 6.0) THEN SharedTrip ELSE SoloTrip END AS TripType#1485]\n",
      "+- FileScan csv [VendorId#1265,tpep_pickup_datetime#1266,tpep_dropoff_datetime#1267,passenger_count#1268,trip_distance#1269,RatecodeID#1270,PULocationID#1272,DOLocationID#1273,payment_type#1274,total_amount#1281] Batched: false, DataFilters: [], Format: CSV, Location: InMemoryFileIndex(1 paths)[file:/Users/tulasiramreddygade/Downloads/apache-spark-3-fundamentals/D..., PartitionFilters: [], PushedFilters: [], ReadSchema: struct<VendorId:int,tpep_pickup_datetime:timestamp,tpep_dropoff_datetime:timestamp,passenger_coun...\n",
      "\n"
     ]
    }
   ],
   "source": [
    "yellowTaxiDF.explain(mode = \"extended\")\n",
    "# other modes - simple, codefen, cost, formatted"
   ]
  },
  {
   "cell_type": "markdown",
   "id": "bd3513aa-2b85-42b4-b222-478adff9175b",
   "metadata": {},
   "source": [
    "### Extract nested fields from json"
   ]
  },
  {
   "cell_type": "code",
   "execution_count": 68,
   "id": "b62b82e2-8173-4dbc-9954-2725118a35a9",
   "metadata": {},
   "outputs": [
    {
     "name": "stdout",
     "output_type": "stream",
     "text": [
      "root\n",
      " |-- Address: struct (nullable = true)\n",
      " |    |-- Building: string (nullable = true)\n",
      " |    |-- City: string (nullable = true)\n",
      " |    |-- Postcode: long (nullable = true)\n",
      " |    |-- State: string (nullable = true)\n",
      " |    |-- Street: string (nullable = true)\n",
      " |-- Date: string (nullable = true)\n",
      " |-- Entity Name: string (nullable = true)\n",
      " |-- GeoLocation: struct (nullable = true)\n",
      " |    |-- Latitude: double (nullable = true)\n",
      " |    |-- Location: string (nullable = true)\n",
      " |    |-- Longitude: double (nullable = true)\n",
      " |-- License Number: string (nullable = true)\n",
      " |-- SHL Endorsed: string (nullable = true)\n",
      " |-- Telephone Number: long (nullable = true)\n",
      " |-- Time: string (nullable = true)\n",
      " |-- Type of Base: string (nullable = true)\n",
      "\n"
     ]
    }
   ],
   "source": [
    "TaxiBasesDFWithSchema.printSchema()"
   ]
  },
  {
   "cell_type": "code",
   "execution_count": 69,
   "id": "1e026363-7c0b-4fef-8e9c-4fc111a3a362",
   "metadata": {},
   "outputs": [
    {
     "name": "stdout",
     "output_type": "stream",
     "text": [
      "root\n",
      " |-- AddressBuilding: string (nullable = true)\n",
      " |-- AddressCity: string (nullable = true)\n",
      " |-- AddressPostcode: long (nullable = true)\n",
      " |-- AddressState: string (nullable = true)\n",
      " |-- AddressStreet: string (nullable = true)\n",
      " |-- GeoLocationLatitude: double (nullable = true)\n",
      " |-- GeoLocationLongitude: double (nullable = true)\n",
      "\n"
     ]
    }
   ],
   "source": [
    "TaxiBasesFlatDF = TaxiBasesDFWithSchema.select(\n",
    "    col(\"Address.Building\").alias(\"AddressBuilding\"),\n",
    "    expr(\"Address.City as AddressCity\"),\n",
    "    expr(\"Address.Postcode as AddressPostcode\"),\n",
    "    col(\"Address.State\").alias(\"AddressState\"),\n",
    "    column(\"Address.Street\").alias(\"AddressStreet\"),\n",
    "    column(\"GeoLocation.Latitude\").alias(\"GeoLocationLatitude\"),\n",
    "    column(\"GeoLocation.Location\").alias(\"GeoLocation\"),\n",
    "    column(\"GeoLocation.Longitude\").alias(\"GeoLocationLongitude\")\n",
    ").drop(\"Address\").drop(\"GeoLocation\")\n",
    "\n",
    "TaxiBasesFlatDF.printSchema()"
   ]
  },
  {
   "cell_type": "code",
   "execution_count": 70,
   "id": "3bfca69c-1f62-4fc2-a7a9-24ab5861724c",
   "metadata": {},
   "outputs": [
    {
     "name": "stdout",
     "output_type": "stream",
     "text": [
      "root\n",
      " |-- VendorId: integer (nullable = true)\n",
      " |-- PassengerCount: integer (nullable = true)\n",
      " |-- TripDistance: double (nullable = true)\n",
      " |-- PickupTime: timestamp (nullable = true)\n",
      " |-- DropTime: timestamp (nullable = true)\n",
      " |-- PickupLocationId: integer (nullable = true)\n",
      " |-- DropLocationId: integer (nullable = true)\n",
      " |-- TotalAmount: double (nullable = true)\n",
      " |-- PaymentType: integer (nullable = true)\n",
      " |-- TripYear: integer (nullable = true)\n",
      " |-- TripMonth: integer (nullable = true)\n",
      " |-- TripDay: integer (nullable = true)\n",
      " |-- TripTimeInMinutes: double (nullable = true)\n",
      " |-- TripType: string (nullable = false)\n",
      "\n"
     ]
    }
   ],
   "source": [
    "yellowTaxiDF.printSchema()"
   ]
  },
  {
   "cell_type": "code",
   "execution_count": 71,
   "id": "b1dc24cf-0b5f-40f5-aa80-311014775a02",
   "metadata": {},
   "outputs": [
    {
     "name": "stderr",
     "output_type": "stream",
     "text": [
      "[Stage 69:>                                                         (0 + 4) / 4]\r"
     ]
    },
    {
     "name": "stdout",
     "output_type": "stream",
     "text": [
      "+----------------+--------------+----------------+----------------+\n",
      "|PickupLocationId|DropLocationId|AvergageTripTime|SumAmountRounded|\n",
      "+----------------+--------------+----------------+----------------+\n",
      "|             265|             1|            12.0|         14723.0|\n",
      "|             265|             3|            34.0|           348.0|\n",
      "|             265|             4|            25.0|          1154.0|\n",
      "|             265|             5|            96.0|           393.0|\n",
      "|             265|             6|            60.0|            36.0|\n",
      "|             265|             7|            29.0|          2207.0|\n",
      "|             265|             9|            21.0|          1457.0|\n",
      "|             265|            10|            50.0|          2280.0|\n",
      "|             265|            11|            35.0|           430.0|\n",
      "|             265|            13|            34.0|           501.0|\n",
      "|             265|            14|            35.0|          2228.0|\n",
      "|             265|            15|            52.0|           744.0|\n",
      "|             265|            16|            23.0|           533.0|\n",
      "|             265|            17|            41.0|           861.0|\n",
      "|             265|            18|            37.0|           462.0|\n",
      "|             265|            19|            33.0|          1392.0|\n",
      "|             265|            20|            90.0|           109.0|\n",
      "|             265|            21|            18.0|           449.0|\n",
      "|             265|            22|            31.0|          1132.0|\n",
      "|             265|            23|            32.0|           881.0|\n",
      "+----------------+--------------+----------------+----------------+\n",
      "only showing top 20 rows\n",
      "\n"
     ]
    },
    {
     "name": "stderr",
     "output_type": "stream",
     "text": [
      "                                                                                \r"
     ]
    }
   ],
   "source": [
    "yellowTaxiDFReport = (\n",
    "    yellowTaxiDF\n",
    "    .groupBy(\"PickupLocationId\",\"DropLocationId\")\n",
    "    .agg(\n",
    "        avg(\"TripTimeInMinutes\").alias(\"AvgTripTime\"),\n",
    "        sum(\"TotalAmount\").alias(\"SumAmount\")\n",
    "    )\n",
    "    .orderBy(col(\"PickupLocationId\").desc(),col(\"DropLocationId\"))\n",
    ")\n",
    "\n",
    "yellowTaxiDFReport = yellowTaxiDFReport.select(\n",
    "    \"*\",\n",
    "    round(col(\"AvgTripTime\")).alias(\"AvergageTripTime\"),\n",
    "    round(col(\"SumAmount\")).alias(\"SumAmountRounded\")\n",
    ").drop(\"AvgTripTime\").drop(\"SumAmount\")\n",
    "\n",
    "yellowTaxiDFReport.show()"
   ]
  },
  {
   "cell_type": "markdown",
   "id": "fc761f9c-cdcd-4765-b626-efc573ae4ee0",
   "metadata": {},
   "source": [
    "# Exercise\n",
    "1. Based on Pickup Time, add a new column with day text = Monday to Sunday\n",
    "2. Based on PickupTime, add a new column with month text = January to December\n",
    "3. Based on PickupTime, add a new column with value being the last day of month"
   ]
  },
  {
   "cell_type": "markdown",
   "id": "5085f27f-b50d-4544-8e0c-a0f3c197f140",
   "metadata": {},
   "source": [
    "### Exercice 1"
   ]
  },
  {
   "cell_type": "code",
   "execution_count": 74,
   "id": "8ce9e3c5-d95c-4f83-ae65-3dcb0a44f7c9",
   "metadata": {},
   "outputs": [
    {
     "name": "stdout",
     "output_type": "stream",
     "text": [
      "root\n",
      " |-- VendorId: integer (nullable = true)\n",
      " |-- PassengerCount: integer (nullable = true)\n",
      " |-- TripDistance: double (nullable = true)\n",
      " |-- PickupTime: timestamp (nullable = true)\n",
      " |-- DropTime: timestamp (nullable = true)\n",
      " |-- PickupLocationId: integer (nullable = true)\n",
      " |-- DropLocationId: integer (nullable = true)\n",
      " |-- TotalAmount: double (nullable = true)\n",
      " |-- PaymentType: integer (nullable = true)\n",
      " |-- TripYear: integer (nullable = true)\n",
      " |-- TripMonth: integer (nullable = true)\n",
      " |-- TripDay: integer (nullable = true)\n",
      " |-- TripTimeInMinutes: double (nullable = true)\n",
      " |-- TripType: string (nullable = false)\n",
      "\n"
     ]
    }
   ],
   "source": [
    "yellowTaxiDF.printSchema()"
   ]
  },
  {
   "cell_type": "code",
   "execution_count": 75,
   "id": "c8971454-631d-4cd5-b8de-49406934cd97",
   "metadata": {},
   "outputs": [
    {
     "ename": "NameError",
     "evalue": "name 'dayname' is not defined",
     "output_type": "error",
     "traceback": [
      "\u001b[0;31m---------------------------------------------------------------------------\u001b[0m",
      "\u001b[0;31mNameError\u001b[0m                                 Traceback (most recent call last)",
      "Cell \u001b[0;32mIn[75], line 4\u001b[0m\n\u001b[1;32m      1\u001b[0m yellowTaxiDF \u001b[38;5;241m=\u001b[39m (\n\u001b[1;32m      2\u001b[0m     yellowTaxiDF\u001b[38;5;241m.\u001b[39mselect(\n\u001b[1;32m      3\u001b[0m         \u001b[38;5;124m\"\u001b[39m\u001b[38;5;124m*\u001b[39m\u001b[38;5;124m\"\u001b[39m,\n\u001b[0;32m----> 4\u001b[0m         dayname(col(\u001b[38;5;124m\"\u001b[39m\u001b[38;5;124mPickupTime\u001b[39m\u001b[38;5;124m\"\u001b[39m))\u001b[38;5;241m.\u001b[39malias(\u001b[38;5;124m\"\u001b[39m\u001b[38;5;124mPickupDay\u001b[39m\u001b[38;5;124m\"\u001b[39m),\n\u001b[1;32m      5\u001b[0m         month(col(\u001b[38;5;124m\"\u001b[39m\u001b[38;5;124mPickupTime\u001b[39m\u001b[38;5;124m\"\u001b[39m))\u001b[38;5;241m.\u001b[39malias(\u001b[38;5;124m\"\u001b[39m\u001b[38;5;124mPickupMonth\u001b[39m\u001b[38;5;124m\"\u001b[39m),\n\u001b[1;32m      6\u001b[0m         last_day(col(\u001b[38;5;124m\"\u001b[39m\u001b[38;5;124mPickupTime\u001b[39m\u001b[38;5;124m\"\u001b[39m))\u001b[38;5;241m.\u001b[39malias(\u001b[38;5;124m\"\u001b[39m\u001b[38;5;124mLastDayMonth\u001b[39m\u001b[38;5;124m\"\u001b[39m)\n\u001b[1;32m      7\u001b[0m     )\n\u001b[1;32m      8\u001b[0m )\n\u001b[1;32m     10\u001b[0m yellowTaxiDF\u001b[38;5;241m.\u001b[39mprintSchema()\n",
      "\u001b[0;31mNameError\u001b[0m: name 'dayname' is not defined"
     ]
    }
   ],
   "source": [
    "yellowTaxiDF = (\n",
    "    yellowTaxiDF.select(\n",
    "        \"*\",\n",
    "        dayname(col(\"PickupTime\")).alias(\"PickupDay\"),\n",
    "        month(col(\"PickupTime\")).alias(\"PickupMonth\"),\n",
    "        last_day(col(\"PickupTime\")).alias(\"LastDayMonth\")\n",
    "    )\n",
    ")\n",
    "\n",
    "yellowTaxiDF.printSchema()"
   ]
  },
  {
   "cell_type": "code",
   "execution_count": null,
   "id": "23a5aecb-6c56-4b6b-beef-abfb56fee405",
   "metadata": {},
   "outputs": [],
   "source": []
  }
 ],
 "metadata": {
  "kernelspec": {
   "display_name": "Python 3 (ipykernel)",
   "language": "python",
   "name": "python3"
  },
  "language_info": {
   "codemirror_mode": {
    "name": "ipython",
    "version": 3
   },
   "file_extension": ".py",
   "mimetype": "text/x-python",
   "name": "python",
   "nbconvert_exporter": "python",
   "pygments_lexer": "ipython3",
   "version": "3.12.4"
  }
 },
 "nbformat": 4,
 "nbformat_minor": 5
}
